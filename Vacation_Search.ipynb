{
 "cells": [
  {
   "cell_type": "markdown",
   "metadata": {},
   "source": [
    "# Challenge Part 2, Vacation Cities Search  \n",
    "Vacation_Search.ipynb"
   ]
  },
  {
   "cell_type": "markdown",
   "metadata": {},
   "source": [
    "### Retrieve Cities set"
   ]
  },
  {
   "cell_type": "code",
   "execution_count": 1,
   "metadata": {},
   "outputs": [],
   "source": [
    "# Import the dependencies.\n",
    "import pandas as pd\n",
    "import numpy as np"
   ]
  },
  {
   "cell_type": "code",
   "execution_count": 2,
   "metadata": {},
   "outputs": [
    {
     "data": {
      "text/html": [
       "<div>\n",
       "<style scoped>\n",
       "    .dataframe tbody tr th:only-of-type {\n",
       "        vertical-align: middle;\n",
       "    }\n",
       "\n",
       "    .dataframe tbody tr th {\n",
       "        vertical-align: top;\n",
       "    }\n",
       "\n",
       "    .dataframe thead th {\n",
       "        text-align: right;\n",
       "    }\n",
       "</style>\n",
       "<table border=\"1\" class=\"dataframe\">\n",
       "  <thead>\n",
       "    <tr style=\"text-align: right;\">\n",
       "      <th></th>\n",
       "      <th>City_ID</th>\n",
       "      <th>City</th>\n",
       "      <th>Country</th>\n",
       "      <th>Date</th>\n",
       "      <th>Lat</th>\n",
       "      <th>Lng</th>\n",
       "      <th>Weather</th>\n",
       "      <th>Min Temp</th>\n",
       "      <th>Max Temp</th>\n",
       "      <th>Humidity</th>\n",
       "      <th>Cloudiness</th>\n",
       "      <th>Wind Speed</th>\n",
       "      <th>Rain</th>\n",
       "      <th>Snow</th>\n",
       "    </tr>\n",
       "  </thead>\n",
       "  <tbody>\n",
       "    <tr>\n",
       "      <th>0</th>\n",
       "      <td>0</td>\n",
       "      <td>Dauriya</td>\n",
       "      <td>RU</td>\n",
       "      <td>2020-02-23 22:11:41</td>\n",
       "      <td>49.93</td>\n",
       "      <td>116.87</td>\n",
       "      <td>clear sky</td>\n",
       "      <td>2.5</td>\n",
       "      <td>2.5</td>\n",
       "      <td>90</td>\n",
       "      <td>0</td>\n",
       "      <td>2.46</td>\n",
       "      <td>0.0</td>\n",
       "      <td>0.0</td>\n",
       "    </tr>\n",
       "    <tr>\n",
       "      <th>1</th>\n",
       "      <td>1</td>\n",
       "      <td>Rikitea</td>\n",
       "      <td>PF</td>\n",
       "      <td>2020-02-23 22:11:41</td>\n",
       "      <td>-23.12</td>\n",
       "      <td>-134.97</td>\n",
       "      <td>clear sky</td>\n",
       "      <td>79.2</td>\n",
       "      <td>79.2</td>\n",
       "      <td>70</td>\n",
       "      <td>0</td>\n",
       "      <td>6.13</td>\n",
       "      <td>0.0</td>\n",
       "      <td>0.0</td>\n",
       "    </tr>\n",
       "  </tbody>\n",
       "</table>\n",
       "</div>"
      ],
      "text/plain": [
       "   City_ID     City Country                 Date    Lat     Lng    Weather  \\\n",
       "0        0  Dauriya      RU  2020-02-23 22:11:41  49.93  116.87  clear sky   \n",
       "1        1  Rikitea      PF  2020-02-23 22:11:41 -23.12 -134.97  clear sky   \n",
       "\n",
       "   Min Temp  Max Temp  Humidity  Cloudiness  Wind Speed  Rain  Snow  \n",
       "0       2.5       2.5        90           0        2.46   0.0   0.0  \n",
       "1      79.2      79.2        70           0        6.13   0.0   0.0  "
      ]
     },
     "execution_count": 2,
     "metadata": {},
     "output_type": "execute_result"
    }
   ],
   "source": [
    "city_weather_file = \"data\\WeatherPy_challenge.csv\"\n",
    "\n",
    "# read back prepared city list\n",
    "city_data_df = pd.read_csv(city_weather_file)\n",
    "city_data_df.head(2)"
   ]
  },
  {
   "cell_type": "markdown",
   "metadata": {},
   "source": [
    "### Preferred Cities Selections"
   ]
  },
  {
   "cell_type": "code",
   "execution_count": 3,
   "metadata": {},
   "outputs": [
    {
     "name": "stdout",
     "output_type": "stream",
     "text": [
      "What is the minimum temperature you would like for your trip? 35\n",
      "What is the maximum temperature you would like for your trip? 60\n"
     ]
    }
   ],
   "source": [
    "# Ask the customer to add a minimum and maximum temperature value.\n",
    "min_temp = float(input(\"What is the minimum temperature you would like for your trip? \"))\n",
    "max_temp = float(input(\"What is the maximum temperature you would like for your trip? \"))"
   ]
  },
  {
   "cell_type": "code",
   "execution_count": 4,
   "metadata": {},
   "outputs": [
    {
     "name": "stdout",
     "output_type": "stream",
     "text": [
      "Do you want it to be raining? (yes/no) no\n"
     ]
    }
   ],
   "source": [
    "input_return = input(\"Do you want it to be raining? (yes/no) \")\n",
    "is_rain = (input_return.lower() == \"yes\")"
   ]
  },
  {
   "cell_type": "code",
   "execution_count": 5,
   "metadata": {},
   "outputs": [
    {
     "name": "stdout",
     "output_type": "stream",
     "text": [
      "Do you want it to be snowing? (yes/no) no\n"
     ]
    }
   ],
   "source": [
    "input_return = input(\"Do you want it to be snowing? (yes/no) \")\n",
    "is_snow = (input_return.lower() == \"yes\")"
   ]
  },
  {
   "cell_type": "code",
   "execution_count": 6,
   "metadata": {},
   "outputs": [
    {
     "name": "stdout",
     "output_type": "stream",
     "text": [
      "Your preferred city temperatures are between 35.0 and 60.0 Fahrenheit.\n",
      "You want the weather to be neither raining, nor snowing.\n"
     ]
    }
   ],
   "source": [
    "print(f\"Your preferred city temperatures are between {min_temp} and {max_temp} Fahrenheit.\")\n",
    "if (is_rain and is_snow):\n",
    "    print(f\"You want the weather to be either raining or snowing.\")\n",
    "elif is_rain:\n",
    "    print(f\"You want the weather to be raining.\")        \n",
    "elif is_snow:\n",
    "    print(f\"You want the weather to be snowing.\")\n",
    "else:\n",
    "    print(f\"You want the weather to be neither raining, nor snowing.\") \n"
   ]
  },
  {
   "cell_type": "markdown",
   "metadata": {},
   "source": [
    "### filter"
   ]
  },
  {
   "cell_type": "code",
   "execution_count": 7,
   "metadata": {},
   "outputs": [],
   "source": [
    "# temperature selection series (boolean)\n",
    "temp_selected = (city_data_df[\"Min Temp\"] >= min_temp) & (city_data_df[\"Max Temp\"] <= max_temp)"
   ]
  },
  {
   "cell_type": "code",
   "execution_count": 8,
   "metadata": {},
   "outputs": [
    {
     "data": {
      "text/plain": [
       "0    True\n",
       "1    True\n",
       "2    True\n",
       "dtype: bool"
      ]
     },
     "execution_count": 8,
     "metadata": {},
     "output_type": "execute_result"
    }
   ],
   "source": [
    "# rain / snow selection series (boolean)\n",
    "if (is_rain and is_snow):\n",
    "    rain_snow_selected = (city_data_df[\"Rain\"] > 0.0) | (city_data_df[\"Snow\"] > 0.0)\n",
    "elif is_rain:\n",
    "    rain_snow_selected = (city_data_df[\"Rain\"] > 0.0)\n",
    "elif is_snow:\n",
    "    rain_snow_selected = (city_data_df[\"Snow\"] > 0.0)\n",
    "else:\n",
    "    rain_snow_selected = (city_data_df[\"Rain\"] <= 0.0) & (city_data_df[\"Snow\"] <= 0.0)\n",
    "rain_snow_selected[:3]"
   ]
  },
  {
   "cell_type": "code",
   "execution_count": 9,
   "metadata": {},
   "outputs": [
    {
     "data": {
      "text/html": [
       "<div>\n",
       "<style scoped>\n",
       "    .dataframe tbody tr th:only-of-type {\n",
       "        vertical-align: middle;\n",
       "    }\n",
       "\n",
       "    .dataframe tbody tr th {\n",
       "        vertical-align: top;\n",
       "    }\n",
       "\n",
       "    .dataframe thead th {\n",
       "        text-align: right;\n",
       "    }\n",
       "</style>\n",
       "<table border=\"1\" class=\"dataframe\">\n",
       "  <thead>\n",
       "    <tr style=\"text-align: right;\">\n",
       "      <th></th>\n",
       "      <th>City_ID</th>\n",
       "      <th>City</th>\n",
       "      <th>Country</th>\n",
       "      <th>Date</th>\n",
       "      <th>Lat</th>\n",
       "      <th>Lng</th>\n",
       "      <th>Weather</th>\n",
       "      <th>Min Temp</th>\n",
       "      <th>Max Temp</th>\n",
       "      <th>Humidity</th>\n",
       "      <th>Cloudiness</th>\n",
       "      <th>Wind Speed</th>\n",
       "      <th>Rain</th>\n",
       "      <th>Snow</th>\n",
       "    </tr>\n",
       "  </thead>\n",
       "  <tbody>\n",
       "    <tr>\n",
       "      <th>2</th>\n",
       "      <td>2</td>\n",
       "      <td>Mataura</td>\n",
       "      <td>NZ</td>\n",
       "      <td>2020-02-23 22:11:41</td>\n",
       "      <td>-46.19</td>\n",
       "      <td>168.86</td>\n",
       "      <td>broken clouds</td>\n",
       "      <td>56.46</td>\n",
       "      <td>56.46</td>\n",
       "      <td>76</td>\n",
       "      <td>77</td>\n",
       "      <td>2.10</td>\n",
       "      <td>0.0</td>\n",
       "      <td>0.0</td>\n",
       "    </tr>\n",
       "    <tr>\n",
       "      <th>3</th>\n",
       "      <td>3</td>\n",
       "      <td>Bluff</td>\n",
       "      <td>NZ</td>\n",
       "      <td>2020-02-23 22:11:41</td>\n",
       "      <td>-46.60</td>\n",
       "      <td>168.33</td>\n",
       "      <td>broken clouds</td>\n",
       "      <td>55.44</td>\n",
       "      <td>55.44</td>\n",
       "      <td>75</td>\n",
       "      <td>66</td>\n",
       "      <td>5.08</td>\n",
       "      <td>0.0</td>\n",
       "      <td>0.0</td>\n",
       "    </tr>\n",
       "    <tr>\n",
       "      <th>4</th>\n",
       "      <td>4</td>\n",
       "      <td>Ville-Marie</td>\n",
       "      <td>CA</td>\n",
       "      <td>2020-02-23 22:11:41</td>\n",
       "      <td>47.33</td>\n",
       "      <td>-79.43</td>\n",
       "      <td>scattered clouds</td>\n",
       "      <td>37.40</td>\n",
       "      <td>37.40</td>\n",
       "      <td>69</td>\n",
       "      <td>40</td>\n",
       "      <td>11.41</td>\n",
       "      <td>0.0</td>\n",
       "      <td>0.0</td>\n",
       "    </tr>\n",
       "    <tr>\n",
       "      <th>12</th>\n",
       "      <td>12</td>\n",
       "      <td>Punta Arenas</td>\n",
       "      <td>CL</td>\n",
       "      <td>2020-02-23 22:11:43</td>\n",
       "      <td>-53.15</td>\n",
       "      <td>-70.92</td>\n",
       "      <td>broken clouds</td>\n",
       "      <td>55.40</td>\n",
       "      <td>55.40</td>\n",
       "      <td>62</td>\n",
       "      <td>75</td>\n",
       "      <td>31.09</td>\n",
       "      <td>0.0</td>\n",
       "      <td>0.0</td>\n",
       "    </tr>\n",
       "    <tr>\n",
       "      <th>15</th>\n",
       "      <td>15</td>\n",
       "      <td>Jackson</td>\n",
       "      <td>US</td>\n",
       "      <td>2020-02-23 22:08:06</td>\n",
       "      <td>42.42</td>\n",
       "      <td>-122.83</td>\n",
       "      <td>broken clouds</td>\n",
       "      <td>55.00</td>\n",
       "      <td>57.99</td>\n",
       "      <td>54</td>\n",
       "      <td>75</td>\n",
       "      <td>4.70</td>\n",
       "      <td>0.0</td>\n",
       "      <td>0.0</td>\n",
       "    </tr>\n",
       "    <tr>\n",
       "      <th>22</th>\n",
       "      <td>22</td>\n",
       "      <td>Port Elizabeth</td>\n",
       "      <td>ZA</td>\n",
       "      <td>2020-02-23 22:11:45</td>\n",
       "      <td>-33.92</td>\n",
       "      <td>25.57</td>\n",
       "      <td>clear sky</td>\n",
       "      <td>55.40</td>\n",
       "      <td>55.40</td>\n",
       "      <td>82</td>\n",
       "      <td>0</td>\n",
       "      <td>1.12</td>\n",
       "      <td>0.0</td>\n",
       "      <td>0.0</td>\n",
       "    </tr>\n",
       "    <tr>\n",
       "      <th>25</th>\n",
       "      <td>25</td>\n",
       "      <td>Dunedin</td>\n",
       "      <td>NZ</td>\n",
       "      <td>2020-02-23 22:11:45</td>\n",
       "      <td>-45.87</td>\n",
       "      <td>170.50</td>\n",
       "      <td>scattered clouds</td>\n",
       "      <td>56.26</td>\n",
       "      <td>56.26</td>\n",
       "      <td>78</td>\n",
       "      <td>46</td>\n",
       "      <td>3.38</td>\n",
       "      <td>0.0</td>\n",
       "      <td>0.0</td>\n",
       "    </tr>\n",
       "    <tr>\n",
       "      <th>30</th>\n",
       "      <td>30</td>\n",
       "      <td>Albany</td>\n",
       "      <td>US</td>\n",
       "      <td>2020-02-23 22:11:46</td>\n",
       "      <td>42.60</td>\n",
       "      <td>-73.97</td>\n",
       "      <td>clear sky</td>\n",
       "      <td>39.99</td>\n",
       "      <td>51.80</td>\n",
       "      <td>34</td>\n",
       "      <td>1</td>\n",
       "      <td>5.82</td>\n",
       "      <td>0.0</td>\n",
       "      <td>0.0</td>\n",
       "    </tr>\n",
       "    <tr>\n",
       "      <th>31</th>\n",
       "      <td>31</td>\n",
       "      <td>Ushuaia</td>\n",
       "      <td>AR</td>\n",
       "      <td>2020-02-23 22:11:47</td>\n",
       "      <td>-54.80</td>\n",
       "      <td>-68.30</td>\n",
       "      <td>overcast clouds</td>\n",
       "      <td>46.40</td>\n",
       "      <td>46.40</td>\n",
       "      <td>87</td>\n",
       "      <td>90</td>\n",
       "      <td>23.04</td>\n",
       "      <td>0.0</td>\n",
       "      <td>0.0</td>\n",
       "    </tr>\n",
       "    <tr>\n",
       "      <th>36</th>\n",
       "      <td>36</td>\n",
       "      <td>Waddan</td>\n",
       "      <td>LY</td>\n",
       "      <td>2020-02-23 22:11:48</td>\n",
       "      <td>29.16</td>\n",
       "      <td>16.14</td>\n",
       "      <td>clear sky</td>\n",
       "      <td>52.07</td>\n",
       "      <td>52.07</td>\n",
       "      <td>64</td>\n",
       "      <td>0</td>\n",
       "      <td>5.08</td>\n",
       "      <td>0.0</td>\n",
       "      <td>0.0</td>\n",
       "    </tr>\n",
       "  </tbody>\n",
       "</table>\n",
       "</div>"
      ],
      "text/plain": [
       "    City_ID            City Country                 Date    Lat     Lng  \\\n",
       "2         2         Mataura      NZ  2020-02-23 22:11:41 -46.19  168.86   \n",
       "3         3           Bluff      NZ  2020-02-23 22:11:41 -46.60  168.33   \n",
       "4         4     Ville-Marie      CA  2020-02-23 22:11:41  47.33  -79.43   \n",
       "12       12    Punta Arenas      CL  2020-02-23 22:11:43 -53.15  -70.92   \n",
       "15       15         Jackson      US  2020-02-23 22:08:06  42.42 -122.83   \n",
       "22       22  Port Elizabeth      ZA  2020-02-23 22:11:45 -33.92   25.57   \n",
       "25       25         Dunedin      NZ  2020-02-23 22:11:45 -45.87  170.50   \n",
       "30       30          Albany      US  2020-02-23 22:11:46  42.60  -73.97   \n",
       "31       31         Ushuaia      AR  2020-02-23 22:11:47 -54.80  -68.30   \n",
       "36       36          Waddan      LY  2020-02-23 22:11:48  29.16   16.14   \n",
       "\n",
       "             Weather  Min Temp  Max Temp  Humidity  Cloudiness  Wind Speed  \\\n",
       "2      broken clouds     56.46     56.46        76          77        2.10   \n",
       "3      broken clouds     55.44     55.44        75          66        5.08   \n",
       "4   scattered clouds     37.40     37.40        69          40       11.41   \n",
       "12     broken clouds     55.40     55.40        62          75       31.09   \n",
       "15     broken clouds     55.00     57.99        54          75        4.70   \n",
       "22         clear sky     55.40     55.40        82           0        1.12   \n",
       "25  scattered clouds     56.26     56.26        78          46        3.38   \n",
       "30         clear sky     39.99     51.80        34           1        5.82   \n",
       "31   overcast clouds     46.40     46.40        87          90       23.04   \n",
       "36         clear sky     52.07     52.07        64           0        5.08   \n",
       "\n",
       "    Rain  Snow  \n",
       "2    0.0   0.0  \n",
       "3    0.0   0.0  \n",
       "4    0.0   0.0  \n",
       "12   0.0   0.0  \n",
       "15   0.0   0.0  \n",
       "22   0.0   0.0  \n",
       "25   0.0   0.0  \n",
       "30   0.0   0.0  \n",
       "31   0.0   0.0  \n",
       "36   0.0   0.0  "
      ]
     },
     "execution_count": 9,
     "metadata": {},
     "output_type": "execute_result"
    }
   ],
   "source": [
    "# combine temperature selection and rain_snow selection, create preferred cities\n",
    "preferred_cities_df = city_data_df.loc[temp_selected & rain_snow_selected]\n",
    "preferred_cities_df.head(10)"
   ]
  },
  {
   "cell_type": "code",
   "execution_count": 10,
   "metadata": {},
   "outputs": [
    {
     "data": {
      "text/plain": [
       "City_ID       111\n",
       "City          111\n",
       "Country       111\n",
       "Date          111\n",
       "Lat           111\n",
       "Lng           111\n",
       "Weather       111\n",
       "Min Temp      111\n",
       "Max Temp      111\n",
       "Humidity      111\n",
       "Cloudiness    111\n",
       "Wind Speed    111\n",
       "Rain          111\n",
       "Snow          111\n",
       "dtype: int64"
      ]
     },
     "execution_count": 10,
     "metadata": {},
     "output_type": "execute_result"
    }
   ],
   "source": [
    "preferred_cities_df.count()"
   ]
  },
  {
   "cell_type": "markdown",
   "metadata": {},
   "source": [
    "## Create hotel DataFrame"
   ]
  },
  {
   "cell_type": "code",
   "execution_count": 11,
   "metadata": {},
   "outputs": [
    {
     "data": {
      "text/html": [
       "<div>\n",
       "<style scoped>\n",
       "    .dataframe tbody tr th:only-of-type {\n",
       "        vertical-align: middle;\n",
       "    }\n",
       "\n",
       "    .dataframe tbody tr th {\n",
       "        vertical-align: top;\n",
       "    }\n",
       "\n",
       "    .dataframe thead th {\n",
       "        text-align: right;\n",
       "    }\n",
       "</style>\n",
       "<table border=\"1\" class=\"dataframe\">\n",
       "  <thead>\n",
       "    <tr style=\"text-align: right;\">\n",
       "      <th></th>\n",
       "      <th>City</th>\n",
       "      <th>Country</th>\n",
       "      <th>Weather</th>\n",
       "      <th>Max Temp</th>\n",
       "      <th>Lat</th>\n",
       "      <th>Lng</th>\n",
       "      <th>Hotel Name</th>\n",
       "    </tr>\n",
       "  </thead>\n",
       "  <tbody>\n",
       "    <tr>\n",
       "      <th>2</th>\n",
       "      <td>Mataura</td>\n",
       "      <td>NZ</td>\n",
       "      <td>broken clouds</td>\n",
       "      <td>56.46</td>\n",
       "      <td>-46.19</td>\n",
       "      <td>168.86</td>\n",
       "      <td></td>\n",
       "    </tr>\n",
       "    <tr>\n",
       "      <th>3</th>\n",
       "      <td>Bluff</td>\n",
       "      <td>NZ</td>\n",
       "      <td>broken clouds</td>\n",
       "      <td>55.44</td>\n",
       "      <td>-46.60</td>\n",
       "      <td>168.33</td>\n",
       "      <td></td>\n",
       "    </tr>\n",
       "  </tbody>\n",
       "</table>\n",
       "</div>"
      ],
      "text/plain": [
       "      City Country        Weather  Max Temp    Lat     Lng Hotel Name\n",
       "2  Mataura      NZ  broken clouds     56.46 -46.19  168.86           \n",
       "3    Bluff      NZ  broken clouds     55.44 -46.60  168.33           "
      ]
     },
     "execution_count": 11,
     "metadata": {},
     "output_type": "execute_result"
    }
   ],
   "source": [
    "# Create DataFrame called hotel_df to store hotel names along with city, country, max temp, and coordinates.\n",
    "hotel_df = preferred_cities_df[[\"City\", \"Country\", \"Weather\", \"Max Temp\", \"Lat\", \"Lng\"]].copy()\n",
    "hotel_df[\"Hotel Name\"] = \"\"\n",
    "hotel_df.head(2)"
   ]
  },
  {
   "cell_type": "markdown",
   "metadata": {},
   "source": [
    "### GMaps Search hotels\n",
    "one hotel is kept"
   ]
  },
  {
   "cell_type": "code",
   "execution_count": 12,
   "metadata": {},
   "outputs": [],
   "source": [
    "# Dependencies and Setup\n",
    "import requests\n",
    "import gmaps\n",
    "# Import the API key.\n",
    "from config import g_key\n",
    "\n",
    "# Configure gmaps to use your Google API key.\n",
    "gmaps.configure(api_key=g_key)"
   ]
  },
  {
   "cell_type": "markdown",
   "metadata": {},
   "source": [
    "#### another way to parse: convert json to df  \n",
    "df = pd.json_normalize(hotels['results'])  \n",
    "df.head(2)"
   ]
  },
  {
   "cell_type": "code",
   "execution_count": 13,
   "metadata": {},
   "outputs": [
    {
     "name": "stdout",
     "output_type": "stream",
     "text": [
      "-----------------------------\n",
      "Beginning Data Retrieval     \n",
      "-----------------------------\n",
      "Albany Hotel not found... skipping.\n",
      "Xingyi Hotel not found... skipping.\n",
      "Murgab Hotel not found... skipping.\n",
      "Shitanjing Hotel not found... skipping.\n",
      "-----------------------------\n",
      "Data Retrieval Complete      \n",
      "-----------------------------\n"
     ]
    }
   ],
   "source": [
    "# Set the parameters to search for a hotel in Paris.\n",
    "params = {\n",
    "    \"radius\": 5000,\n",
    "    \"types\": \"lodging\",\n",
    "    \"key\": g_key,\n",
    "    \"location\": \"48.8566, 2.3522\"}\n",
    "\n",
    "# Print the beginning of the logging.\n",
    "print(\"-----------------------------\")\n",
    "print(\"Beginning Data Retrieval     \")\n",
    "print(\"-----------------------------\")\n",
    "\n",
    "# Iterate through the DataFrame.\n",
    "for index, row in hotel_df.iterrows():\n",
    "    # Get the city for log.\n",
    "    city = hotel_df.loc[index, \"City\"]\n",
    "    # Get the latitude and longitude.\n",
    "    lat = row[\"Lat\"]\n",
    "    lng = row[\"Lng\"]\n",
    "\n",
    "    # Add the latitude and longitude to location key for the params dictionary.\n",
    "    params[\"location\"] = f\"{lat},{lng}\"\n",
    "\n",
    "    # Use the search term: \"lodging\" and our latitude and longitude.\n",
    "    base_url = \"https://maps.googleapis.com/maps/api/place/nearbysearch/json\"\n",
    "    # Make request and get the JSON data from the search.\n",
    "    hotels = requests.get(base_url, params=params).json()\n",
    "    # Grab the first hotel from the results and store the name.\n",
    "    try:\n",
    "        hotel_df.loc[index, \"Hotel Name\"] = hotels[\"results\"][0][\"name\"]\n",
    "    except (IndexError):\n",
    "        print(f\"{city} Hotel not found... skipping.\")\n",
    "    except:\n",
    "        print(f\"{city} Other Errors... skipping.\")\n",
    "\n",
    "# Indicate that Data Loading is complete.\n",
    "print(\"-----------------------------\")\n",
    "print(\"Data Retrieval Complete      \")\n",
    "print(\"-----------------------------\")"
   ]
  },
  {
   "cell_type": "code",
   "execution_count": 14,
   "metadata": {},
   "outputs": [
    {
     "data": {
      "text/plain": [
       "City          111\n",
       "Country       111\n",
       "Weather       111\n",
       "Max Temp      111\n",
       "Lat           111\n",
       "Lng           111\n",
       "Hotel Name    111\n",
       "dtype: int64"
      ]
     },
     "execution_count": 14,
     "metadata": {},
     "output_type": "execute_result"
    }
   ],
   "source": [
    "hotel_df.count()"
   ]
  },
  {
   "cell_type": "code",
   "execution_count": 15,
   "metadata": {},
   "outputs": [
    {
     "data": {
      "text/html": [
       "<div>\n",
       "<style scoped>\n",
       "    .dataframe tbody tr th:only-of-type {\n",
       "        vertical-align: middle;\n",
       "    }\n",
       "\n",
       "    .dataframe tbody tr th {\n",
       "        vertical-align: top;\n",
       "    }\n",
       "\n",
       "    .dataframe thead th {\n",
       "        text-align: right;\n",
       "    }\n",
       "</style>\n",
       "<table border=\"1\" class=\"dataframe\">\n",
       "  <thead>\n",
       "    <tr style=\"text-align: right;\">\n",
       "      <th></th>\n",
       "      <th>City</th>\n",
       "      <th>Country</th>\n",
       "      <th>Weather</th>\n",
       "      <th>Max Temp</th>\n",
       "      <th>Lat</th>\n",
       "      <th>Lng</th>\n",
       "      <th>Hotel Name</th>\n",
       "    </tr>\n",
       "  </thead>\n",
       "  <tbody>\n",
       "    <tr>\n",
       "      <th>2</th>\n",
       "      <td>Mataura</td>\n",
       "      <td>NZ</td>\n",
       "      <td>broken clouds</td>\n",
       "      <td>56.46</td>\n",
       "      <td>-46.19</td>\n",
       "      <td>168.86</td>\n",
       "      <td>Ellie's Villa</td>\n",
       "    </tr>\n",
       "    <tr>\n",
       "      <th>3</th>\n",
       "      <td>Bluff</td>\n",
       "      <td>NZ</td>\n",
       "      <td>broken clouds</td>\n",
       "      <td>55.44</td>\n",
       "      <td>-46.60</td>\n",
       "      <td>168.33</td>\n",
       "      <td>Bluff Homestead - Guesthouse &amp; Campervan Park</td>\n",
       "    </tr>\n",
       "  </tbody>\n",
       "</table>\n",
       "</div>"
      ],
      "text/plain": [
       "      City Country        Weather  Max Temp    Lat     Lng  \\\n",
       "2  Mataura      NZ  broken clouds     56.46 -46.19  168.86   \n",
       "3    Bluff      NZ  broken clouds     55.44 -46.60  168.33   \n",
       "\n",
       "                                      Hotel Name  \n",
       "2                                  Ellie's Villa  \n",
       "3  Bluff Homestead - Guesthouse & Campervan Park  "
      ]
     },
     "execution_count": 15,
     "metadata": {},
     "output_type": "execute_result"
    }
   ],
   "source": [
    "hotel_df.head(2)"
   ]
  },
  {
   "cell_type": "markdown",
   "metadata": {},
   "source": [
    "### GMap with pop-up marker layer"
   ]
  },
  {
   "cell_type": "code",
   "execution_count": 16,
   "metadata": {},
   "outputs": [],
   "source": [
    "info_box_template = \"\"\"\n",
    "<dl>\n",
    "<dt>Hotel Name</dt><dd>{Hotel Name}</dd>\n",
    "<dt>City</dt><dd>{City}</dd>\n",
    "<dt>Country</dt><dd>{Country}</dd>\n",
    "<dt>Current Weather</dt><dd>{Weather} and {Max Temp}°F</dd>\n",
    "</dl>\n",
    "\"\"\"\n",
    "\n",
    "# Store the DataFrame Row.\n",
    "hotel_info = [info_box_template.format(**row) for index, row in hotel_df.iterrows()]"
   ]
  },
  {
   "cell_type": "code",
   "execution_count": 17,
   "metadata": {},
   "outputs": [
    {
     "data": {
      "application/vnd.jupyter.widget-view+json": {
       "model_id": "9fe1e2479d7548159bedf58da3fd00e6",
       "version_major": 2,
       "version_minor": 0
      },
      "text/plain": [
       "Figure(layout=FigureLayout(height='420px'))"
      ]
     },
     "metadata": {},
     "output_type": "display_data"
    }
   ],
   "source": [
    "# Add a pop-up marker layer for each city.\n",
    "locations = hotel_df[[\"Lat\", \"Lng\"]]\n",
    "max_temp = hotel_df[\"Max Temp\"]\n",
    "fig = gmaps.figure(center=(30.0, 31.0), zoom_level=1.5)\n",
    "marker_layer = gmaps.marker_layer(locations, info_box_content=hotel_info)\n",
    "fig.add_layer(marker_layer)\n",
    "\n",
    "# Call the figure to plot the data.\n",
    "fig"
   ]
  },
  {
   "cell_type": "markdown",
   "metadata": {},
   "source": [
    "### Save hotel DataFrame\n",
    "re-format to be similar to sample"
   ]
  },
  {
   "cell_type": "code",
   "execution_count": 18,
   "metadata": {},
   "outputs": [
    {
     "data": {
      "text/html": [
       "<div>\n",
       "<style scoped>\n",
       "    .dataframe tbody tr th:only-of-type {\n",
       "        vertical-align: middle;\n",
       "    }\n",
       "\n",
       "    .dataframe tbody tr th {\n",
       "        vertical-align: top;\n",
       "    }\n",
       "\n",
       "    .dataframe thead th {\n",
       "        text-align: right;\n",
       "    }\n",
       "</style>\n",
       "<table border=\"1\" class=\"dataframe\">\n",
       "  <thead>\n",
       "    <tr style=\"text-align: right;\">\n",
       "      <th></th>\n",
       "      <th>City</th>\n",
       "      <th>Country</th>\n",
       "      <th>Max Temp</th>\n",
       "      <th>Current Description</th>\n",
       "      <th>Lat</th>\n",
       "      <th>Lng</th>\n",
       "      <th>Hotel Name</th>\n",
       "    </tr>\n",
       "  </thead>\n",
       "  <tbody>\n",
       "    <tr>\n",
       "      <th>2</th>\n",
       "      <td>Mataura</td>\n",
       "      <td>NZ</td>\n",
       "      <td>56.46</td>\n",
       "      <td>broken clouds</td>\n",
       "      <td>-46.19</td>\n",
       "      <td>168.86</td>\n",
       "      <td>Ellie's Villa</td>\n",
       "    </tr>\n",
       "    <tr>\n",
       "      <th>3</th>\n",
       "      <td>Bluff</td>\n",
       "      <td>NZ</td>\n",
       "      <td>55.44</td>\n",
       "      <td>broken clouds</td>\n",
       "      <td>-46.60</td>\n",
       "      <td>168.33</td>\n",
       "      <td>Bluff Homestead - Guesthouse &amp; Campervan Park</td>\n",
       "    </tr>\n",
       "    <tr>\n",
       "      <th>4</th>\n",
       "      <td>Ville-Marie</td>\n",
       "      <td>CA</td>\n",
       "      <td>37.40</td>\n",
       "      <td>scattered clouds</td>\n",
       "      <td>47.33</td>\n",
       "      <td>-79.43</td>\n",
       "      <td>La Bannik</td>\n",
       "    </tr>\n",
       "    <tr>\n",
       "      <th>12</th>\n",
       "      <td>Punta Arenas</td>\n",
       "      <td>CL</td>\n",
       "      <td>55.40</td>\n",
       "      <td>broken clouds</td>\n",
       "      <td>-53.15</td>\n",
       "      <td>-70.92</td>\n",
       "      <td>Hotel Dreams Del Estrecho</td>\n",
       "    </tr>\n",
       "    <tr>\n",
       "      <th>15</th>\n",
       "      <td>Jackson</td>\n",
       "      <td>US</td>\n",
       "      <td>57.99</td>\n",
       "      <td>broken clouds</td>\n",
       "      <td>42.42</td>\n",
       "      <td>-122.83</td>\n",
       "      <td>Agate Village Apartments</td>\n",
       "    </tr>\n",
       "  </tbody>\n",
       "</table>\n",
       "</div>"
      ],
      "text/plain": [
       "            City Country  Max Temp Current Description    Lat     Lng  \\\n",
       "2        Mataura      NZ     56.46       broken clouds -46.19  168.86   \n",
       "3          Bluff      NZ     55.44       broken clouds -46.60  168.33   \n",
       "4    Ville-Marie      CA     37.40    scattered clouds  47.33  -79.43   \n",
       "12  Punta Arenas      CL     55.40       broken clouds -53.15  -70.92   \n",
       "15       Jackson      US     57.99       broken clouds  42.42 -122.83   \n",
       "\n",
       "                                       Hotel Name  \n",
       "2                                   Ellie's Villa  \n",
       "3   Bluff Homestead - Guesthouse & Campervan Park  \n",
       "4                                       La Bannik  \n",
       "12                      Hotel Dreams Del Estrecho  \n",
       "15                       Agate Village Apartments  "
      ]
     },
     "execution_count": 18,
     "metadata": {},
     "output_type": "execute_result"
    }
   ],
   "source": [
    "# rename weather to be \"Current Descrition\"\n",
    "hotel_df.rename(columns = {'Weather':'Current Description'}, inplace = True) \n",
    "\n",
    "# match the column order\n",
    "new_column_order = [\"City\", \"Country\", \"Max Temp\", \"Current Description\", \"Lat\", \"Lng\", \"Hotel Name\"]\n",
    "\n",
    "hotel_df = hotel_df[new_column_order]\n",
    "hotel_df.head()"
   ]
  },
  {
   "cell_type": "markdown",
   "metadata": {},
   "source": [
    "#### save in csv"
   ]
  },
  {
   "cell_type": "code",
   "execution_count": 19,
   "metadata": {},
   "outputs": [],
   "source": [
    "# save in csv\n",
    "hotel_df.to_csv(\"data\\WeatherPy_vacation.csv\", index_label=\"City_ID\")"
   ]
  },
  {
   "cell_type": "code",
   "execution_count": null,
   "metadata": {},
   "outputs": [],
   "source": []
  }
 ],
 "metadata": {
  "kernelspec": {
   "display_name": "PythonData",
   "language": "python",
   "name": "pythondata"
  },
  "language_info": {
   "codemirror_mode": {
    "name": "ipython",
    "version": 3
   },
   "file_extension": ".py",
   "mimetype": "text/x-python",
   "name": "python",
   "nbconvert_exporter": "python",
   "pygments_lexer": "ipython3",
   "version": "3.7.4"
  }
 },
 "nbformat": 4,
 "nbformat_minor": 4
}
