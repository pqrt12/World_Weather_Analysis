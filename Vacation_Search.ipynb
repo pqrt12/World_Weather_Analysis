{
 "cells": [
  {
   "cell_type": "markdown",
   "metadata": {},
   "source": [
    "# WeathPy Challenge Part 2  \n",
    "Vacation_Search.ipynb"
   ]
  },
  {
   "cell_type": "markdown",
   "metadata": {},
   "source": [
    "### Retrieve Cities set"
   ]
  },
  {
   "cell_type": "code",
   "execution_count": 1,
   "metadata": {},
   "outputs": [],
   "source": [
    "# Import the dependencies.\n",
    "import pandas as pd\n",
    "import numpy as np"
   ]
  },
  {
   "cell_type": "code",
   "execution_count": 2,
   "metadata": {},
   "outputs": [
    {
     "data": {
      "text/html": [
       "<div>\n",
       "<style scoped>\n",
       "    .dataframe tbody tr th:only-of-type {\n",
       "        vertical-align: middle;\n",
       "    }\n",
       "\n",
       "    .dataframe tbody tr th {\n",
       "        vertical-align: top;\n",
       "    }\n",
       "\n",
       "    .dataframe thead th {\n",
       "        text-align: right;\n",
       "    }\n",
       "</style>\n",
       "<table border=\"1\" class=\"dataframe\">\n",
       "  <thead>\n",
       "    <tr style=\"text-align: right;\">\n",
       "      <th></th>\n",
       "      <th>City_ID</th>\n",
       "      <th>City</th>\n",
       "      <th>Country</th>\n",
       "      <th>Date</th>\n",
       "      <th>Lat</th>\n",
       "      <th>Lng</th>\n",
       "      <th>Weather</th>\n",
       "      <th>Min Temp</th>\n",
       "      <th>Max Temp</th>\n",
       "      <th>Humidity</th>\n",
       "      <th>Cloudiness</th>\n",
       "      <th>Wind Speed</th>\n",
       "      <th>Rain</th>\n",
       "      <th>Snow</th>\n",
       "    </tr>\n",
       "  </thead>\n",
       "  <tbody>\n",
       "    <tr>\n",
       "      <th>0</th>\n",
       "      <td>0</td>\n",
       "      <td>Parana</td>\n",
       "      <td>AR</td>\n",
       "      <td>2020-02-22 06:33:45</td>\n",
       "      <td>-31.73</td>\n",
       "      <td>-60.52</td>\n",
       "      <td>clear sky</td>\n",
       "      <td>62.01</td>\n",
       "      <td>63.00</td>\n",
       "      <td>68</td>\n",
       "      <td>0</td>\n",
       "      <td>4.0</td>\n",
       "      <td>0.0</td>\n",
       "      <td>0.000000</td>\n",
       "    </tr>\n",
       "    <tr>\n",
       "      <th>1</th>\n",
       "      <td>1</td>\n",
       "      <td>Krasnosel'kup</td>\n",
       "      <td>RU</td>\n",
       "      <td>2020-02-22 06:33:45</td>\n",
       "      <td>65.70</td>\n",
       "      <td>82.47</td>\n",
       "      <td>light snow</td>\n",
       "      <td>6.21</td>\n",
       "      <td>6.21</td>\n",
       "      <td>94</td>\n",
       "      <td>99</td>\n",
       "      <td>13.4</td>\n",
       "      <td>0.0</td>\n",
       "      <td>0.005118</td>\n",
       "    </tr>\n",
       "  </tbody>\n",
       "</table>\n",
       "</div>"
      ],
      "text/plain": [
       "   City_ID           City Country                 Date    Lat    Lng  \\\n",
       "0        0         Parana      AR  2020-02-22 06:33:45 -31.73 -60.52   \n",
       "1        1  Krasnosel'kup      RU  2020-02-22 06:33:45  65.70  82.47   \n",
       "\n",
       "      Weather  Min Temp  Max Temp  Humidity  Cloudiness  Wind Speed  Rain  \\\n",
       "0   clear sky     62.01     63.00        68           0         4.0   0.0   \n",
       "1  light snow      6.21      6.21        94          99        13.4   0.0   \n",
       "\n",
       "       Snow  \n",
       "0  0.000000  \n",
       "1  0.005118  "
      ]
     },
     "execution_count": 2,
     "metadata": {},
     "output_type": "execute_result"
    }
   ],
   "source": [
    "city_weather_file = 'weather_data\\WeatherPy_challenge.csv'\n",
    "\n",
    "# read back prepared city list\n",
    "city_data_df = pd.read_csv(city_weather_file)\n",
    "city_data_df.head(2)"
   ]
  },
  {
   "cell_type": "markdown",
   "metadata": {},
   "source": [
    "### Preferred Cities Selections"
   ]
  },
  {
   "cell_type": "code",
   "execution_count": 3,
   "metadata": {},
   "outputs": [
    {
     "name": "stdout",
     "output_type": "stream",
     "text": [
      "What is the minimum temperature you would like for your trip? 40\n",
      "What is the maximum temperature you would like for your trip? 60\n"
     ]
    }
   ],
   "source": [
    "# Ask the customer to add a minimum and maximum temperature value.\n",
    "min_temp = float(input(\"What is the minimum temperature you would like for your trip? \"))\n",
    "max_temp = float(input(\"What is the maximum temperature you would like for your trip? \"))"
   ]
  },
  {
   "cell_type": "code",
   "execution_count": 4,
   "metadata": {},
   "outputs": [
    {
     "name": "stdout",
     "output_type": "stream",
     "text": [
      "Do you want it to be raining? (yes/no) no\n"
     ]
    }
   ],
   "source": [
    "input_return = input(\"Do you want it to be raining? (yes/no) \")\n",
    "is_rain = (input_return.lower() == \"yes\")"
   ]
  },
  {
   "cell_type": "code",
   "execution_count": 5,
   "metadata": {},
   "outputs": [
    {
     "name": "stdout",
     "output_type": "stream",
     "text": [
      "Do you want it to be snowing? (yes/no) no\n"
     ]
    }
   ],
   "source": [
    "input_return = input(\"Do you want it to be snowing? (yes/no) \")\n",
    "is_snow = (input_return.lower() == \"yes\")"
   ]
  },
  {
   "cell_type": "code",
   "execution_count": 6,
   "metadata": {},
   "outputs": [
    {
     "name": "stdout",
     "output_type": "stream",
     "text": [
      "Your preferred city temperatures are between 40.0 and 60.0 Fahrenheit.\n",
      "You want the weather to be neither raining, nor snowing.\n"
     ]
    }
   ],
   "source": [
    "print(f\"Your preferred city temperatures are between {min_temp} and {max_temp} Fahrenheit.\")\n",
    "if (is_rain and is_snow):\n",
    "    print(f\"You want the weather to be either raining or snowing.\")\n",
    "elif is_rain:\n",
    "    print(f\"You want the weather to be raining.\")        \n",
    "elif is_snow:\n",
    "    print(f\"You want the weather to be snowing.\")\n",
    "else:\n",
    "    print(f\"You want the weather to be neither raining, nor snowing.\") \n"
   ]
  },
  {
   "cell_type": "markdown",
   "metadata": {},
   "source": [
    "### filter"
   ]
  },
  {
   "cell_type": "code",
   "execution_count": 7,
   "metadata": {},
   "outputs": [],
   "source": [
    "# temperature selection series (boolean)\n",
    "temp_selected = (city_data_df[\"Min Temp\"] >= min_temp) & (city_data_df[\"Max Temp\"] <= max_temp)"
   ]
  },
  {
   "cell_type": "code",
   "execution_count": 8,
   "metadata": {},
   "outputs": [
    {
     "data": {
      "text/plain": [
       "0     True\n",
       "1    False\n",
       "2     True\n",
       "dtype: bool"
      ]
     },
     "execution_count": 8,
     "metadata": {},
     "output_type": "execute_result"
    }
   ],
   "source": [
    "# rain / snow selection series (boolean)\n",
    "if (is_rain and is_snow):\n",
    "    rain_snow_selected = (city_data_df[\"Rain\"] > 0.0) | (city_data_df[\"Snow\"] > 0.0)\n",
    "elif is_rain:\n",
    "    rain_snow_selected = (city_data_df[\"Rain\"] > 0.0)\n",
    "elif is_snow:\n",
    "    rain_snow_selected = (city_data_df[\"Snow\"] > 0.0)\n",
    "else:\n",
    "    rain_snow_selected = (city_data_df[\"Rain\"] <= 0.0) & (city_data_df[\"Snow\"] <= 0.0)\n",
    "rain_snow_selected[:3]"
   ]
  },
  {
   "cell_type": "code",
   "execution_count": 9,
   "metadata": {},
   "outputs": [
    {
     "data": {
      "text/html": [
       "<div>\n",
       "<style scoped>\n",
       "    .dataframe tbody tr th:only-of-type {\n",
       "        vertical-align: middle;\n",
       "    }\n",
       "\n",
       "    .dataframe tbody tr th {\n",
       "        vertical-align: top;\n",
       "    }\n",
       "\n",
       "    .dataframe thead th {\n",
       "        text-align: right;\n",
       "    }\n",
       "</style>\n",
       "<table border=\"1\" class=\"dataframe\">\n",
       "  <thead>\n",
       "    <tr style=\"text-align: right;\">\n",
       "      <th></th>\n",
       "      <th>City_ID</th>\n",
       "      <th>City</th>\n",
       "      <th>Country</th>\n",
       "      <th>Date</th>\n",
       "      <th>Lat</th>\n",
       "      <th>Lng</th>\n",
       "      <th>Weather</th>\n",
       "      <th>Min Temp</th>\n",
       "      <th>Max Temp</th>\n",
       "      <th>Humidity</th>\n",
       "      <th>Cloudiness</th>\n",
       "      <th>Wind Speed</th>\n",
       "      <th>Rain</th>\n",
       "      <th>Snow</th>\n",
       "    </tr>\n",
       "  </thead>\n",
       "  <tbody>\n",
       "    <tr>\n",
       "      <th>4</th>\n",
       "      <td>4</td>\n",
       "      <td>Ushuaia</td>\n",
       "      <td>AR</td>\n",
       "      <td>2020-02-22 06:33:45</td>\n",
       "      <td>-54.80</td>\n",
       "      <td>-68.30</td>\n",
       "      <td>scattered clouds</td>\n",
       "      <td>55.40</td>\n",
       "      <td>55.40</td>\n",
       "      <td>76</td>\n",
       "      <td>40</td>\n",
       "      <td>17.22</td>\n",
       "      <td>0.0</td>\n",
       "      <td>0.0</td>\n",
       "    </tr>\n",
       "    <tr>\n",
       "      <th>7</th>\n",
       "      <td>7</td>\n",
       "      <td>Kaitangata</td>\n",
       "      <td>NZ</td>\n",
       "      <td>2020-02-22 06:33:46</td>\n",
       "      <td>-46.28</td>\n",
       "      <td>169.85</td>\n",
       "      <td>few clouds</td>\n",
       "      <td>55.99</td>\n",
       "      <td>55.99</td>\n",
       "      <td>52</td>\n",
       "      <td>16</td>\n",
       "      <td>10.00</td>\n",
       "      <td>0.0</td>\n",
       "      <td>0.0</td>\n",
       "    </tr>\n",
       "    <tr>\n",
       "      <th>9</th>\n",
       "      <td>9</td>\n",
       "      <td>Bluff</td>\n",
       "      <td>NZ</td>\n",
       "      <td>2020-02-22 06:33:46</td>\n",
       "      <td>-46.60</td>\n",
       "      <td>168.33</td>\n",
       "      <td>few clouds</td>\n",
       "      <td>55.00</td>\n",
       "      <td>55.00</td>\n",
       "      <td>61</td>\n",
       "      <td>12</td>\n",
       "      <td>13.00</td>\n",
       "      <td>0.0</td>\n",
       "      <td>0.0</td>\n",
       "    </tr>\n",
       "    <tr>\n",
       "      <th>12</th>\n",
       "      <td>12</td>\n",
       "      <td>Baharly</td>\n",
       "      <td>TM</td>\n",
       "      <td>2020-02-22 06:33:47</td>\n",
       "      <td>38.44</td>\n",
       "      <td>57.43</td>\n",
       "      <td>few clouds</td>\n",
       "      <td>52.30</td>\n",
       "      <td>52.30</td>\n",
       "      <td>63</td>\n",
       "      <td>20</td>\n",
       "      <td>13.89</td>\n",
       "      <td>0.0</td>\n",
       "      <td>0.0</td>\n",
       "    </tr>\n",
       "    <tr>\n",
       "      <th>20</th>\n",
       "      <td>20</td>\n",
       "      <td>Tuatapere</td>\n",
       "      <td>NZ</td>\n",
       "      <td>2020-02-22 06:33:48</td>\n",
       "      <td>-46.13</td>\n",
       "      <td>167.68</td>\n",
       "      <td>few clouds</td>\n",
       "      <td>55.00</td>\n",
       "      <td>55.00</td>\n",
       "      <td>61</td>\n",
       "      <td>24</td>\n",
       "      <td>13.00</td>\n",
       "      <td>0.0</td>\n",
       "      <td>0.0</td>\n",
       "    </tr>\n",
       "    <tr>\n",
       "      <th>28</th>\n",
       "      <td>28</td>\n",
       "      <td>Yima</td>\n",
       "      <td>CN</td>\n",
       "      <td>2020-02-22 06:33:49</td>\n",
       "      <td>34.74</td>\n",
       "      <td>111.88</td>\n",
       "      <td>clear sky</td>\n",
       "      <td>56.80</td>\n",
       "      <td>56.80</td>\n",
       "      <td>19</td>\n",
       "      <td>0</td>\n",
       "      <td>10.69</td>\n",
       "      <td>0.0</td>\n",
       "      <td>0.0</td>\n",
       "    </tr>\n",
       "    <tr>\n",
       "      <th>30</th>\n",
       "      <td>30</td>\n",
       "      <td>Chui</td>\n",
       "      <td>UY</td>\n",
       "      <td>2020-02-22 06:33:50</td>\n",
       "      <td>-33.70</td>\n",
       "      <td>-53.46</td>\n",
       "      <td>scattered clouds</td>\n",
       "      <td>59.47</td>\n",
       "      <td>59.47</td>\n",
       "      <td>66</td>\n",
       "      <td>41</td>\n",
       "      <td>11.72</td>\n",
       "      <td>0.0</td>\n",
       "      <td>0.0</td>\n",
       "    </tr>\n",
       "    <tr>\n",
       "      <th>56</th>\n",
       "      <td>56</td>\n",
       "      <td>Bulnes</td>\n",
       "      <td>CL</td>\n",
       "      <td>2020-02-22 06:33:55</td>\n",
       "      <td>-36.74</td>\n",
       "      <td>-72.30</td>\n",
       "      <td>clear sky</td>\n",
       "      <td>55.40</td>\n",
       "      <td>57.20</td>\n",
       "      <td>87</td>\n",
       "      <td>0</td>\n",
       "      <td>4.70</td>\n",
       "      <td>0.0</td>\n",
       "      <td>0.0</td>\n",
       "    </tr>\n",
       "    <tr>\n",
       "      <th>61</th>\n",
       "      <td>61</td>\n",
       "      <td>Ribeira Grande</td>\n",
       "      <td>PT</td>\n",
       "      <td>2020-02-22 06:33:56</td>\n",
       "      <td>38.52</td>\n",
       "      <td>-28.70</td>\n",
       "      <td>overcast clouds</td>\n",
       "      <td>56.73</td>\n",
       "      <td>56.73</td>\n",
       "      <td>83</td>\n",
       "      <td>88</td>\n",
       "      <td>5.59</td>\n",
       "      <td>0.0</td>\n",
       "      <td>0.0</td>\n",
       "    </tr>\n",
       "    <tr>\n",
       "      <th>66</th>\n",
       "      <td>66</td>\n",
       "      <td>Kiryat Gat</td>\n",
       "      <td>IL</td>\n",
       "      <td>2020-02-22 06:33:57</td>\n",
       "      <td>31.61</td>\n",
       "      <td>34.76</td>\n",
       "      <td>scattered clouds</td>\n",
       "      <td>46.00</td>\n",
       "      <td>53.60</td>\n",
       "      <td>87</td>\n",
       "      <td>40</td>\n",
       "      <td>12.75</td>\n",
       "      <td>0.0</td>\n",
       "      <td>0.0</td>\n",
       "    </tr>\n",
       "  </tbody>\n",
       "</table>\n",
       "</div>"
      ],
      "text/plain": [
       "    City_ID            City Country                 Date    Lat     Lng  \\\n",
       "4         4         Ushuaia      AR  2020-02-22 06:33:45 -54.80  -68.30   \n",
       "7         7      Kaitangata      NZ  2020-02-22 06:33:46 -46.28  169.85   \n",
       "9         9           Bluff      NZ  2020-02-22 06:33:46 -46.60  168.33   \n",
       "12       12         Baharly      TM  2020-02-22 06:33:47  38.44   57.43   \n",
       "20       20       Tuatapere      NZ  2020-02-22 06:33:48 -46.13  167.68   \n",
       "28       28            Yima      CN  2020-02-22 06:33:49  34.74  111.88   \n",
       "30       30            Chui      UY  2020-02-22 06:33:50 -33.70  -53.46   \n",
       "56       56          Bulnes      CL  2020-02-22 06:33:55 -36.74  -72.30   \n",
       "61       61  Ribeira Grande      PT  2020-02-22 06:33:56  38.52  -28.70   \n",
       "66       66      Kiryat Gat      IL  2020-02-22 06:33:57  31.61   34.76   \n",
       "\n",
       "             Weather  Min Temp  Max Temp  Humidity  Cloudiness  Wind Speed  \\\n",
       "4   scattered clouds     55.40     55.40        76          40       17.22   \n",
       "7         few clouds     55.99     55.99        52          16       10.00   \n",
       "9         few clouds     55.00     55.00        61          12       13.00   \n",
       "12        few clouds     52.30     52.30        63          20       13.89   \n",
       "20        few clouds     55.00     55.00        61          24       13.00   \n",
       "28         clear sky     56.80     56.80        19           0       10.69   \n",
       "30  scattered clouds     59.47     59.47        66          41       11.72   \n",
       "56         clear sky     55.40     57.20        87           0        4.70   \n",
       "61   overcast clouds     56.73     56.73        83          88        5.59   \n",
       "66  scattered clouds     46.00     53.60        87          40       12.75   \n",
       "\n",
       "    Rain  Snow  \n",
       "4    0.0   0.0  \n",
       "7    0.0   0.0  \n",
       "9    0.0   0.0  \n",
       "12   0.0   0.0  \n",
       "20   0.0   0.0  \n",
       "28   0.0   0.0  \n",
       "30   0.0   0.0  \n",
       "56   0.0   0.0  \n",
       "61   0.0   0.0  \n",
       "66   0.0   0.0  "
      ]
     },
     "execution_count": 9,
     "metadata": {},
     "output_type": "execute_result"
    }
   ],
   "source": [
    "# combine temperature selection and rain_snow selection, create preferred cities\n",
    "preferred_cities_df = city_data_df.loc[temp_selected & rain_snow_selected]\n",
    "preferred_cities_df.head(10)"
   ]
  },
  {
   "cell_type": "code",
   "execution_count": 10,
   "metadata": {},
   "outputs": [
    {
     "data": {
      "text/plain": [
       "City_ID       68\n",
       "City          68\n",
       "Country       68\n",
       "Date          68\n",
       "Lat           68\n",
       "Lng           68\n",
       "Weather       68\n",
       "Min Temp      68\n",
       "Max Temp      68\n",
       "Humidity      68\n",
       "Cloudiness    68\n",
       "Wind Speed    68\n",
       "Rain          68\n",
       "Snow          68\n",
       "dtype: int64"
      ]
     },
     "execution_count": 10,
     "metadata": {},
     "output_type": "execute_result"
    }
   ],
   "source": [
    "preferred_cities_df.count()"
   ]
  },
  {
   "cell_type": "markdown",
   "metadata": {},
   "source": [
    "## Create hotel DataFrame"
   ]
  },
  {
   "cell_type": "code",
   "execution_count": 11,
   "metadata": {},
   "outputs": [
    {
     "data": {
      "text/html": [
       "<div>\n",
       "<style scoped>\n",
       "    .dataframe tbody tr th:only-of-type {\n",
       "        vertical-align: middle;\n",
       "    }\n",
       "\n",
       "    .dataframe tbody tr th {\n",
       "        vertical-align: top;\n",
       "    }\n",
       "\n",
       "    .dataframe thead th {\n",
       "        text-align: right;\n",
       "    }\n",
       "</style>\n",
       "<table border=\"1\" class=\"dataframe\">\n",
       "  <thead>\n",
       "    <tr style=\"text-align: right;\">\n",
       "      <th></th>\n",
       "      <th>City</th>\n",
       "      <th>Country</th>\n",
       "      <th>Weather</th>\n",
       "      <th>Max Temp</th>\n",
       "      <th>Lat</th>\n",
       "      <th>Lng</th>\n",
       "      <th>Hotel Name</th>\n",
       "    </tr>\n",
       "  </thead>\n",
       "  <tbody>\n",
       "    <tr>\n",
       "      <th>4</th>\n",
       "      <td>Ushuaia</td>\n",
       "      <td>AR</td>\n",
       "      <td>scattered clouds</td>\n",
       "      <td>55.40</td>\n",
       "      <td>-54.80</td>\n",
       "      <td>-68.30</td>\n",
       "      <td></td>\n",
       "    </tr>\n",
       "    <tr>\n",
       "      <th>7</th>\n",
       "      <td>Kaitangata</td>\n",
       "      <td>NZ</td>\n",
       "      <td>few clouds</td>\n",
       "      <td>55.99</td>\n",
       "      <td>-46.28</td>\n",
       "      <td>169.85</td>\n",
       "      <td></td>\n",
       "    </tr>\n",
       "  </tbody>\n",
       "</table>\n",
       "</div>"
      ],
      "text/plain": [
       "         City Country           Weather  Max Temp    Lat     Lng Hotel Name\n",
       "4     Ushuaia      AR  scattered clouds     55.40 -54.80  -68.30           \n",
       "7  Kaitangata      NZ        few clouds     55.99 -46.28  169.85           "
      ]
     },
     "execution_count": 11,
     "metadata": {},
     "output_type": "execute_result"
    }
   ],
   "source": [
    "# Create DataFrame called hotel_df to store hotel names along with city, country, max temp, and coordinates.\n",
    "hotel_df = preferred_cities_df[[\"City\", \"Country\", \"Weather\", \"Max Temp\", \"Lat\", \"Lng\"]].copy()\n",
    "hotel_df[\"Hotel Name\"] = \"\"\n",
    "hotel_df.head(2)"
   ]
  },
  {
   "cell_type": "markdown",
   "metadata": {},
   "source": [
    "### GMaps Search hotels\n",
    "one hotel is kept"
   ]
  },
  {
   "cell_type": "code",
   "execution_count": 12,
   "metadata": {},
   "outputs": [],
   "source": [
    "# Dependencies and Setup\n",
    "import requests\n",
    "import gmaps\n",
    "# Import the API key.\n",
    "from config import g_key\n",
    "\n",
    "# Configure gmaps to use your Google API key.\n",
    "gmaps.configure(api_key=g_key)"
   ]
  },
  {
   "cell_type": "markdown",
   "metadata": {},
   "source": [
    "#### another way to parse: convert json to df  \n",
    "df = pd.json_normalize(hotels['results'])  \n",
    "df.head(2)"
   ]
  },
  {
   "cell_type": "code",
   "execution_count": 13,
   "metadata": {},
   "outputs": [
    {
     "name": "stdout",
     "output_type": "stream",
     "text": [
      "-----------------------------\n",
      "Beginning Data Retrieval     \n",
      "-----------------------------\n",
      "Baharly Hotel not found... skipping.\n",
      "Trapani Hotel not found... skipping.\n",
      "Tiznit Hotel not found... skipping.\n",
      "Wilayat-e Zabul Hotel not found... skipping.\n",
      "Yumen Hotel not found... skipping.\n",
      "Abu Samrah Hotel not found... skipping.\n",
      "Sidi Ali Hotel not found... skipping.\n",
      "-----------------------------\n",
      "Data Retrieval Complete      \n",
      "-----------------------------\n"
     ]
    }
   ],
   "source": [
    "# Set the parameters to search for a hotel in Paris.\n",
    "params = {\n",
    "    \"radius\": 5000,\n",
    "    \"types\": \"lodging\",\n",
    "    \"key\": g_key,\n",
    "    \"location\": \"48.8566, 2.3522\"}\n",
    "\n",
    "# Print the beginning of the logging.\n",
    "print(\"-----------------------------\")\n",
    "print(\"Beginning Data Retrieval     \")\n",
    "print(\"-----------------------------\")\n",
    "\n",
    "# Iterate through the DataFrame.\n",
    "for index, row in hotel_df.iterrows():\n",
    "    # Get the city for log.\n",
    "    city = hotel_df.loc[index, \"City\"]\n",
    "    # Get the latitude and longitude.\n",
    "    lat = row[\"Lat\"]\n",
    "    lng = row[\"Lng\"]\n",
    "\n",
    "    # Add the latitude and longitude to location key for the params dictionary.\n",
    "    params[\"location\"] = f\"{lat},{lng}\"\n",
    "\n",
    "    # Use the search term: \"lodging\" and our latitude and longitude.\n",
    "    base_url = \"https://maps.googleapis.com/maps/api/place/nearbysearch/json\"\n",
    "    # Make request and get the JSON data from the search.\n",
    "    hotels = requests.get(base_url, params=params).json()\n",
    "    # Grab the first hotel from the results and store the name.\n",
    "    try:\n",
    "        hotel_df.loc[index, \"Hotel Name\"] = hotels[\"results\"][0][\"name\"]\n",
    "    except (IndexError):\n",
    "        print(f\"{city} Hotel not found... skipping.\")\n",
    "    except:\n",
    "        print(f\"{city} Other Errors... skipping.\")\n",
    "\n",
    "# Indicate that Data Loading is complete.\n",
    "print(\"-----------------------------\")\n",
    "print(\"Data Retrieval Complete      \")\n",
    "print(\"-----------------------------\")"
   ]
  },
  {
   "cell_type": "code",
   "execution_count": 14,
   "metadata": {},
   "outputs": [
    {
     "data": {
      "text/plain": [
       "City          68\n",
       "Country       68\n",
       "Weather       68\n",
       "Max Temp      68\n",
       "Lat           68\n",
       "Lng           68\n",
       "Hotel Name    68\n",
       "dtype: int64"
      ]
     },
     "execution_count": 14,
     "metadata": {},
     "output_type": "execute_result"
    }
   ],
   "source": [
    "hotel_df.count()"
   ]
  },
  {
   "cell_type": "code",
   "execution_count": 15,
   "metadata": {},
   "outputs": [
    {
     "data": {
      "text/html": [
       "<div>\n",
       "<style scoped>\n",
       "    .dataframe tbody tr th:only-of-type {\n",
       "        vertical-align: middle;\n",
       "    }\n",
       "\n",
       "    .dataframe tbody tr th {\n",
       "        vertical-align: top;\n",
       "    }\n",
       "\n",
       "    .dataframe thead th {\n",
       "        text-align: right;\n",
       "    }\n",
       "</style>\n",
       "<table border=\"1\" class=\"dataframe\">\n",
       "  <thead>\n",
       "    <tr style=\"text-align: right;\">\n",
       "      <th></th>\n",
       "      <th>City</th>\n",
       "      <th>Country</th>\n",
       "      <th>Weather</th>\n",
       "      <th>Max Temp</th>\n",
       "      <th>Lat</th>\n",
       "      <th>Lng</th>\n",
       "      <th>Hotel Name</th>\n",
       "    </tr>\n",
       "  </thead>\n",
       "  <tbody>\n",
       "    <tr>\n",
       "      <th>4</th>\n",
       "      <td>Ushuaia</td>\n",
       "      <td>AR</td>\n",
       "      <td>scattered clouds</td>\n",
       "      <td>55.40</td>\n",
       "      <td>-54.80</td>\n",
       "      <td>-68.30</td>\n",
       "      <td>Albatros Hotel</td>\n",
       "    </tr>\n",
       "    <tr>\n",
       "      <th>7</th>\n",
       "      <td>Kaitangata</td>\n",
       "      <td>NZ</td>\n",
       "      <td>few clouds</td>\n",
       "      <td>55.99</td>\n",
       "      <td>-46.28</td>\n",
       "      <td>169.85</td>\n",
       "      <td>Kaitangata Motor Camp</td>\n",
       "    </tr>\n",
       "  </tbody>\n",
       "</table>\n",
       "</div>"
      ],
      "text/plain": [
       "         City Country           Weather  Max Temp    Lat     Lng  \\\n",
       "4     Ushuaia      AR  scattered clouds     55.40 -54.80  -68.30   \n",
       "7  Kaitangata      NZ        few clouds     55.99 -46.28  169.85   \n",
       "\n",
       "              Hotel Name  \n",
       "4         Albatros Hotel  \n",
       "7  Kaitangata Motor Camp  "
      ]
     },
     "execution_count": 15,
     "metadata": {},
     "output_type": "execute_result"
    }
   ],
   "source": [
    "hotel_df.head(2)"
   ]
  },
  {
   "cell_type": "markdown",
   "metadata": {},
   "source": [
    "### GMap with pop-up marker layer"
   ]
  },
  {
   "cell_type": "code",
   "execution_count": 16,
   "metadata": {},
   "outputs": [],
   "source": [
    "info_box_template = \"\"\"\n",
    "<dl>\n",
    "<dt>Hotel Name</dt><dd>{Hotel Name}</dd>\n",
    "<dt>City</dt><dd>{City}</dd>\n",
    "<dt>Country</dt><dd>{Country}</dd>\n",
    "<dt>Current Weather</dt><dd>{Weather} and {Max Temp}°F</dd>\n",
    "</dl>\n",
    "\"\"\"\n",
    "\n",
    "# Store the DataFrame Row.\n",
    "hotel_info = [info_box_template.format(**row) for index, row in hotel_df.iterrows()]"
   ]
  },
  {
   "cell_type": "code",
   "execution_count": 17,
   "metadata": {},
   "outputs": [
    {
     "data": {
      "application/vnd.jupyter.widget-view+json": {
       "model_id": "62b02f31afd64383a0d2fe516af020fb",
       "version_major": 2,
       "version_minor": 0
      },
      "text/plain": [
       "Figure(layout=FigureLayout(height='420px'))"
      ]
     },
     "metadata": {},
     "output_type": "display_data"
    }
   ],
   "source": [
    "# Add a pop-up marker layer for each city.\n",
    "locations = hotel_df[[\"Lat\", \"Lng\"]]\n",
    "max_temp = hotel_df[\"Max Temp\"]\n",
    "fig = gmaps.figure(center=(30.0, 31.0), zoom_level=1.5)\n",
    "marker_layer = gmaps.marker_layer(locations, info_box_content=hotel_info)\n",
    "fig.add_layer(marker_layer)\n",
    "\n",
    "# Call the figure to plot the data.\n",
    "fig"
   ]
  },
  {
   "cell_type": "markdown",
   "metadata": {},
   "source": [
    "### Save hotel DataFrame\n",
    "formatted to be similar to sample"
   ]
  },
  {
   "cell_type": "code",
   "execution_count": 18,
   "metadata": {},
   "outputs": [
    {
     "data": {
      "text/html": [
       "<div>\n",
       "<style scoped>\n",
       "    .dataframe tbody tr th:only-of-type {\n",
       "        vertical-align: middle;\n",
       "    }\n",
       "\n",
       "    .dataframe tbody tr th {\n",
       "        vertical-align: top;\n",
       "    }\n",
       "\n",
       "    .dataframe thead th {\n",
       "        text-align: right;\n",
       "    }\n",
       "</style>\n",
       "<table border=\"1\" class=\"dataframe\">\n",
       "  <thead>\n",
       "    <tr style=\"text-align: right;\">\n",
       "      <th></th>\n",
       "      <th>City</th>\n",
       "      <th>Country</th>\n",
       "      <th>Max Temp</th>\n",
       "      <th>Current Description</th>\n",
       "      <th>Lat</th>\n",
       "      <th>Lng</th>\n",
       "      <th>Hotel Name</th>\n",
       "    </tr>\n",
       "  </thead>\n",
       "  <tbody>\n",
       "    <tr>\n",
       "      <th>4</th>\n",
       "      <td>Ushuaia</td>\n",
       "      <td>AR</td>\n",
       "      <td>55.40</td>\n",
       "      <td>scattered clouds</td>\n",
       "      <td>-54.80</td>\n",
       "      <td>-68.30</td>\n",
       "      <td>Albatros Hotel</td>\n",
       "    </tr>\n",
       "    <tr>\n",
       "      <th>7</th>\n",
       "      <td>Kaitangata</td>\n",
       "      <td>NZ</td>\n",
       "      <td>55.99</td>\n",
       "      <td>few clouds</td>\n",
       "      <td>-46.28</td>\n",
       "      <td>169.85</td>\n",
       "      <td>Kaitangata Motor Camp</td>\n",
       "    </tr>\n",
       "    <tr>\n",
       "      <th>9</th>\n",
       "      <td>Bluff</td>\n",
       "      <td>NZ</td>\n",
       "      <td>55.00</td>\n",
       "      <td>few clouds</td>\n",
       "      <td>-46.60</td>\n",
       "      <td>168.33</td>\n",
       "      <td>Bluff Homestead - Guesthouse &amp; Campervan Park</td>\n",
       "    </tr>\n",
       "    <tr>\n",
       "      <th>12</th>\n",
       "      <td>Baharly</td>\n",
       "      <td>TM</td>\n",
       "      <td>52.30</td>\n",
       "      <td>few clouds</td>\n",
       "      <td>38.44</td>\n",
       "      <td>57.43</td>\n",
       "      <td></td>\n",
       "    </tr>\n",
       "    <tr>\n",
       "      <th>20</th>\n",
       "      <td>Tuatapere</td>\n",
       "      <td>NZ</td>\n",
       "      <td>55.00</td>\n",
       "      <td>few clouds</td>\n",
       "      <td>-46.13</td>\n",
       "      <td>167.68</td>\n",
       "      <td>Ron and Tony's Bed &amp; Breakfast</td>\n",
       "    </tr>\n",
       "  </tbody>\n",
       "</table>\n",
       "</div>"
      ],
      "text/plain": [
       "          City Country  Max Temp Current Description    Lat     Lng  \\\n",
       "4      Ushuaia      AR     55.40    scattered clouds -54.80  -68.30   \n",
       "7   Kaitangata      NZ     55.99          few clouds -46.28  169.85   \n",
       "9        Bluff      NZ     55.00          few clouds -46.60  168.33   \n",
       "12     Baharly      TM     52.30          few clouds  38.44   57.43   \n",
       "20   Tuatapere      NZ     55.00          few clouds -46.13  167.68   \n",
       "\n",
       "                                       Hotel Name  \n",
       "4                                  Albatros Hotel  \n",
       "7                           Kaitangata Motor Camp  \n",
       "9   Bluff Homestead - Guesthouse & Campervan Park  \n",
       "12                                                 \n",
       "20                 Ron and Tony's Bed & Breakfast  "
      ]
     },
     "execution_count": 18,
     "metadata": {},
     "output_type": "execute_result"
    }
   ],
   "source": [
    "# rename weather to be \"Current Descrition\"\n",
    "hotel_df.rename(columns = {'Weather':'Current Description'}, inplace = True) \n",
    "\n",
    "# match the column order\n",
    "new_column_order = [\"City\", \"Country\", \"Max Temp\", \"Current Description\", \"Lat\", \"Lng\", \"Hotel Name\"]\n",
    "\n",
    "hotel_df = hotel_df[new_column_order]\n",
    "hotel_df.head()"
   ]
  },
  {
   "cell_type": "markdown",
   "metadata": {},
   "source": [
    "#### save in csv"
   ]
  },
  {
   "cell_type": "code",
   "execution_count": 19,
   "metadata": {},
   "outputs": [],
   "source": [
    "# save in csv\n",
    "hotel_df.to_csv(\"weather_data\\WeatherPy_vacation.csv\", index_label=\"City_ID\")"
   ]
  },
  {
   "cell_type": "code",
   "execution_count": null,
   "metadata": {},
   "outputs": [],
   "source": []
  }
 ],
 "metadata": {
  "kernelspec": {
   "display_name": "PythonData",
   "language": "python",
   "name": "pythondata"
  },
  "language_info": {
   "codemirror_mode": {
    "name": "ipython",
    "version": 3
   },
   "file_extension": ".py",
   "mimetype": "text/x-python",
   "name": "python",
   "nbconvert_exporter": "python",
   "pygments_lexer": "ipython3",
   "version": "3.7.4"
  }
 },
 "nbformat": 4,
 "nbformat_minor": 4
}
