{
 "cells": [
  {
   "cell_type": "markdown",
   "metadata": {},
   "source": [
    "# Part 1 Get Weather Dscription and Precipitation"
   ]
  },
  {
   "cell_type": "markdown",
   "metadata": {},
   "source": [
    "### Generate Random Coordinates"
   ]
  },
  {
   "cell_type": "code",
   "execution_count": 1,
   "metadata": {},
   "outputs": [],
   "source": [
    "# Import the dependencies.\n",
    "import pandas as pd\n",
    "import numpy as np\n",
    "import sys\n",
    "# Import the datetime module from the datetime library.\n",
    "from datetime import datetime"
   ]
  },
  {
   "cell_type": "code",
   "execution_count": 2,
   "metadata": {},
   "outputs": [],
   "source": [
    "# Create a set of random latitude and longitude combinations.\n",
    "SIZE = 1500\n",
    "\n",
    "lats = np.random.uniform(low=-90.000, high=90.000, size=SIZE)\n",
    "lngs = np.random.uniform(low=-180.000, high=180.000, size=SIZE)\n",
    "lat_lngs = zip(lats, lngs)\n",
    "\n",
    "# Add the latitudes and longitudes to a list.\n",
    "coordinates = list(lat_lngs)"
   ]
  },
  {
   "cell_type": "markdown",
   "metadata": {},
   "source": [
    "### Get the nearby cities"
   ]
  },
  {
   "cell_type": "code",
   "execution_count": 3,
   "metadata": {},
   "outputs": [
    {
     "name": "stdout",
     "output_type": "stream",
     "text": [
      "Found 618 cities near our coordinates.\n"
     ]
    }
   ],
   "source": [
    "# Use the citipy module to determine city based on latitude and longitude.\n",
    "from citipy import citipy\n",
    "\n",
    "# Create a list of cities near given coordinates.\n",
    "cities = []\n",
    "# Identify the nearest city for each latitude and longitude combination.\n",
    "for coordinate in coordinates:\n",
    "    city = citipy.nearest_city(coordinate[0], coordinate[1]).city_name\n",
    "    \n",
    "    # Only take unique city.\n",
    "    if city not in cities:\n",
    "        cities.append(city)\n",
    "\n",
    "# Print the city count to confirm sufficient count.\n",
    "num = len(cities)\n",
    "print(f\"Found {num} cities near our coordinates.\") "
   ]
  },
  {
   "cell_type": "markdown",
   "metadata": {},
   "source": [
    "### Open Weather Map request setup"
   ]
  },
  {
   "cell_type": "code",
   "execution_count": 4,
   "metadata": {},
   "outputs": [],
   "source": [
    "# Import the requests library.\n",
    "import requests\n",
    "# Import the API key.\n",
    "from config import weather_api_key\n",
    "\n",
    "# Starting URL for Weather Map API Call.\n",
    "URL = \"http://api.openweathermap.org/data/2.5/weather?units=Imperial&APPID=\" + weather_api_key"
   ]
  },
  {
   "cell_type": "code",
   "execution_count": 5,
   "metadata": {},
   "outputs": [
    {
     "data": {
      "text/plain": [
       "{'coord': {'lon': -122.42, 'lat': 37.77},\n",
       " 'weather': [{'id': 803,\n",
       "   'main': 'Clouds',\n",
       "   'description': 'broken clouds',\n",
       "   'icon': '04n'}],\n",
       " 'base': 'stations',\n",
       " 'main': {'temp': 56.64,\n",
       "  'feels_like': 50.25,\n",
       "  'temp_min': 50,\n",
       "  'temp_max': 62.6,\n",
       "  'pressure': 1015,\n",
       "  'humidity': 44},\n",
       " 'visibility': 16093,\n",
       " 'wind': {'speed': 5.82, 'deg': 310},\n",
       " 'clouds': {'all': 75},\n",
       " 'dt': 1582353110,\n",
       " 'sys': {'type': 1,\n",
       "  'id': 5817,\n",
       "  'country': 'US',\n",
       "  'sunrise': 1582296758,\n",
       "  'sunset': 1582336462},\n",
       " 'timezone': -28800,\n",
       " 'id': 5391959,\n",
       " 'name': 'San Francisco',\n",
       " 'cod': 200}"
      ]
     },
     "execution_count": 5,
     "metadata": {},
     "output_type": "execute_result"
    }
   ],
   "source": [
    "# example\n",
    "city_url = URL + \"&q=\" + \"San Francisco\"\n",
    "city_weather = requests.get(city_url).json()\n",
    "city_weather"
   ]
  },
  {
   "cell_type": "markdown",
   "metadata": {},
   "source": [
    "### function to return rain / snow fall  \n",
    "return rain / snow in last 3 hours, unit inches.  \n",
    "if KeyError, set to zero; other except, raise exception again."
   ]
  },
  {
   "cell_type": "code",
   "execution_count": 6,
   "metadata": {},
   "outputs": [],
   "source": [
    "# return rain_snow_amount in inch.\n",
    "def city_rain_snow_inch(city_weather, rain_snow):\n",
    "    try:\n",
    "        rain_snow_inch = city_weather[rain_snow][\"3h\"] / 25.4\n",
    "        return rain_snow_inch\n",
    "    except KeyError:\n",
    "        return 0.0\n",
    "    except:\n",
    "        e = sys.exc_info()[0]\n",
    "        print(f\"{rain_snow} parsing: {e}. Skipping...\")\n",
    "        raise e"
   ]
  },
  {
   "cell_type": "markdown",
   "metadata": {},
   "source": [
    "### reqest Open Weather Map"
   ]
  },
  {
   "cell_type": "code",
   "execution_count": 7,
   "metadata": {},
   "outputs": [
    {
     "name": "stdout",
     "output_type": "stream",
     "text": [
      "Beginning Data Retrieval     \n",
      "-----------------------------\n",
      "taolanaro not found. Skipping...\n",
      "kuche not found. Skipping...\n",
      "amderma not found. Skipping...\n",
      "belushya guba not found. Skipping...\n",
      "illoqqortoormiut not found. Skipping...\n",
      "temaraia not found. Skipping...\n",
      "juifang not found. Skipping...\n",
      "mullaitivu not found. Skipping...\n",
      "toftir not found. Skipping...\n",
      "barentsburg not found. Skipping...\n",
      "dzhusaly not found. Skipping...\n",
      "samusu not found. Skipping...\n",
      "vaitupu not found. Skipping...\n",
      "bolungarvik not found. Skipping...\n",
      "naftah not found. Skipping...\n",
      "jabiru not found. Skipping...\n",
      "panixtlahuaca not found. Skipping...\n",
      "tarudant not found. Skipping...\n",
      "bur gabo not found. Skipping...\n",
      "lolua not found. Skipping...\n",
      "nizhneyansk not found. Skipping...\n",
      "saint-pascal not found. Skipping...\n",
      "samalaeulu not found. Skipping...\n",
      "ondorhaan not found. Skipping...\n",
      "marcona not found. Skipping...\n",
      "kemijarvi not found. Skipping...\n",
      "mrirt not found. Skipping...\n",
      "mys shmidta not found. Skipping...\n",
      "taburi not found. Skipping...\n",
      "attawapiskat not found. Skipping...\n",
      "kazalinsk not found. Skipping...\n",
      "phan rang not found. Skipping...\n",
      "tsihombe not found. Skipping...\n",
      "grand river south east not found. Skipping...\n",
      "zlatoustovsk not found. Skipping...\n",
      "ruatoria not found. Skipping...\n",
      "skalistyy not found. Skipping...\n",
      "whitchurch-stouffville not found. Skipping...\n",
      "saleaula not found. Skipping...\n",
      "cookshire not found. Skipping...\n",
      "toliary not found. Skipping...\n",
      "dipkarpaz not found. Skipping...\n",
      "guajara-mirim not found. Skipping...\n",
      "fevralsk not found. Skipping...\n",
      "falealupo not found. Skipping...\n",
      "yanan not found. Skipping...\n",
      "coulihaut not found. Skipping...\n",
      "tumannyy not found. Skipping...\n",
      "longlac not found. Skipping...\n",
      "palabuhanratu not found. Skipping...\n",
      "karamea not found. Skipping...\n",
      "umzimvubu not found. Skipping...\n",
      "sataua not found. Skipping...\n",
      "rawannawi not found. Skipping...\n",
      "meyungs not found. Skipping...\n",
      "sentyabrskiy not found. Skipping...\n",
      "tambul not found. Skipping...\n",
      "-----------------------------\n",
      "Data Retrieval Complete      \n",
      "-----------------------------\n"
     ]
    }
   ],
   "source": [
    "# Create an empty list to hold the weather data.\n",
    "city_data = []\n",
    "\n",
    "# Print the beginning of the logging.\n",
    "print(\"-----------------------------\")\n",
    "print(\"Beginning Data Retrieval     \")\n",
    "print(\"-----------------------------\")\n",
    "\n",
    "# Loop through all the cities in the list.\n",
    "for i, city in enumerate(cities):\n",
    "\n",
    "    if (i >= 10):\n",
    "        break\n",
    "\n",
    "    # Create endpoint URL with each city.\n",
    "    city_url = URL + \"&q=\" + city\n",
    "\n",
    "    # Run an API request for each of the cities.\n",
    "    try:\n",
    "        # Parse the JSON and retrieve data.\n",
    "        city_weather = requests.get(city_url).json()\n",
    "\n",
    "        # Parse out the needed data.\n",
    "        city_name = city_weather[\"name\"]\n",
    "        city_lat = city_weather[\"coord\"][\"lat\"]\n",
    "        city_lng = city_weather[\"coord\"][\"lon\"]\n",
    "        city_min_temp = city_weather[\"main\"][\"temp_min\"]\n",
    "        city_max_temp = city_weather[\"main\"][\"temp_max\"]\n",
    "        city_humidity = city_weather[\"main\"][\"humidity\"]\n",
    "        city_clouds = city_weather[\"clouds\"][\"all\"]\n",
    "        city_wind = city_weather[\"wind\"][\"speed\"]\n",
    "        # use \"weather\", \"description\"\n",
    "        city_wx_dscpt = city_weather[\"weather\"][0][\"description\"]\n",
    "        city_country = city_weather[\"sys\"][\"country\"]\n",
    "        # convert mm to inch.\n",
    "        city_rain = city_rain_snow_inch(city_weather, \"rain\")\n",
    "        city_snow = city_rain_snow_inch(city_weather, \"snow\")\n",
    "        # Convert the date to ISO standard.\n",
    "        city_date = datetime.utcfromtimestamp(city_weather[\"dt\"]).strftime('%Y-%m-%d %H:%M:%S')\n",
    "\n",
    "        # Append the city information into city_data list.\n",
    "        city_data.append({\"City\": city_name,\n",
    "                          \"Lat\":  city_lat,\n",
    "                          \"Lng\":  city_lng,\n",
    "                          \"Min Temp\": city_min_temp,\n",
    "                          \"Max Temp\": city_max_temp,\n",
    "                          \"Humidity\": city_humidity,\n",
    "                          \"Cloudiness\": city_clouds,\n",
    "                          \"Wind Speed\": city_wind,\n",
    "                          \"Weather\": city_wx_dscpt, \n",
    "                          \"Country\": city_country,\n",
    "                          \"Rain\": city_rain,\n",
    "                          \"Snow\": city_snow,\n",
    "                          \"Date\": city_date})\n",
    "\n",
    "    except KeyError:\n",
    "        print(f\"{city} not found. Skipping...\")\n",
    "        pass        \n",
    "    # If an error is experienced, skip the city.\n",
    "    except:\n",
    "        e = sys.exc_info()[0]\n",
    "        print(f\"{city} weather parsing: {e}. Skipping...\")\n",
    "        pass\n",
    "\n",
    "# Indicate that Data Loading is complete.\n",
    "print(\"-----------------------------\")\n",
    "print(\"Data Retrieval Complete      \")\n",
    "print(\"-----------------------------\")"
   ]
  },
  {
   "cell_type": "markdown",
   "metadata": {},
   "source": [
    "### create DataFrame"
   ]
  },
  {
   "cell_type": "code",
   "execution_count": 8,
   "metadata": {},
   "outputs": [
    {
     "data": {
      "text/html": [
       "<div>\n",
       "<style scoped>\n",
       "    .dataframe tbody tr th:only-of-type {\n",
       "        vertical-align: middle;\n",
       "    }\n",
       "\n",
       "    .dataframe tbody tr th {\n",
       "        vertical-align: top;\n",
       "    }\n",
       "\n",
       "    .dataframe thead th {\n",
       "        text-align: right;\n",
       "    }\n",
       "</style>\n",
       "<table border=\"1\" class=\"dataframe\">\n",
       "  <thead>\n",
       "    <tr style=\"text-align: right;\">\n",
       "      <th></th>\n",
       "      <th>City</th>\n",
       "      <th>Country</th>\n",
       "      <th>Date</th>\n",
       "      <th>Lat</th>\n",
       "      <th>Lng</th>\n",
       "      <th>Weather</th>\n",
       "      <th>Min Temp</th>\n",
       "      <th>Max Temp</th>\n",
       "      <th>Humidity</th>\n",
       "      <th>Cloudiness</th>\n",
       "      <th>Wind Speed</th>\n",
       "      <th>Rain</th>\n",
       "      <th>Snow</th>\n",
       "    </tr>\n",
       "  </thead>\n",
       "  <tbody>\n",
       "    <tr>\n",
       "      <th>0</th>\n",
       "      <td>Parana</td>\n",
       "      <td>AR</td>\n",
       "      <td>2020-02-22 06:33:45</td>\n",
       "      <td>-31.73</td>\n",
       "      <td>-60.52</td>\n",
       "      <td>clear sky</td>\n",
       "      <td>62.01</td>\n",
       "      <td>63.00</td>\n",
       "      <td>68</td>\n",
       "      <td>0</td>\n",
       "      <td>4.0</td>\n",
       "      <td>0.0</td>\n",
       "      <td>0.000000</td>\n",
       "    </tr>\n",
       "    <tr>\n",
       "      <th>1</th>\n",
       "      <td>Krasnosel'kup</td>\n",
       "      <td>RU</td>\n",
       "      <td>2020-02-22 06:33:45</td>\n",
       "      <td>65.70</td>\n",
       "      <td>82.47</td>\n",
       "      <td>light snow</td>\n",
       "      <td>6.21</td>\n",
       "      <td>6.21</td>\n",
       "      <td>94</td>\n",
       "      <td>99</td>\n",
       "      <td>13.4</td>\n",
       "      <td>0.0</td>\n",
       "      <td>0.005118</td>\n",
       "    </tr>\n",
       "  </tbody>\n",
       "</table>\n",
       "</div>"
      ],
      "text/plain": [
       "            City Country                 Date    Lat    Lng     Weather  \\\n",
       "0         Parana      AR  2020-02-22 06:33:45 -31.73 -60.52   clear sky   \n",
       "1  Krasnosel'kup      RU  2020-02-22 06:33:45  65.70  82.47  light snow   \n",
       "\n",
       "   Min Temp  Max Temp  Humidity  Cloudiness  Wind Speed  Rain      Snow  \n",
       "0     62.01     63.00        68           0         4.0   0.0  0.000000  \n",
       "1      6.21      6.21        94          99        13.4   0.0  0.005118  "
      ]
     },
     "execution_count": 8,
     "metadata": {},
     "output_type": "execute_result"
    }
   ],
   "source": [
    "city_data_df = pd.DataFrame(city_data)\n",
    "new_column_order = [\"City\", \"Country\", \"Date\", \"Lat\", \"Lng\",\n",
    "                    \"Weather\", \"Min Temp\", \"Max Temp\", \"Humidity\", \"Cloudiness\", \"Wind Speed\", \"Rain\", \"Snow\"]\n",
    "city_data_df = city_data_df[new_column_order]\n",
    "city_data_df.head(2)"
   ]
  },
  {
   "cell_type": "markdown",
   "metadata": {},
   "source": [
    "### save DataFrame in csv file"
   ]
  },
  {
   "cell_type": "code",
   "execution_count": 9,
   "metadata": {},
   "outputs": [],
   "source": [
    "city_data_df.to_csv('weather_data\\WeatherPy_challenge.csv', index_label=\"City_ID\")"
   ]
  },
  {
   "cell_type": "markdown",
   "metadata": {},
   "source": [
    "### total cities"
   ]
  },
  {
   "cell_type": "code",
   "execution_count": 10,
   "metadata": {},
   "outputs": [
    {
     "name": "stdout",
     "output_type": "stream",
     "text": [
      "There are 561 cities in weather_data\\WeatherPy_challenge.csv.\n"
     ]
    }
   ],
   "source": [
    "total_cities = len(city_data_df.index)\n",
    "print(f\"There are {total_cities} cities in {output_file}.\")"
   ]
  },
  {
   "cell_type": "code",
   "execution_count": null,
   "metadata": {},
   "outputs": [],
   "source": []
  }
 ],
 "metadata": {
  "kernelspec": {
   "display_name": "PythonData",
   "language": "python",
   "name": "pythondata"
  },
  "language_info": {
   "codemirror_mode": {
    "name": "ipython",
    "version": 3
   },
   "file_extension": ".py",
   "mimetype": "text/x-python",
   "name": "python",
   "nbconvert_exporter": "python",
   "pygments_lexer": "ipython3",
   "version": "3.7.4"
  }
 },
 "nbformat": 4,
 "nbformat_minor": 4
}
