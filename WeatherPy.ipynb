{
 "cells": [
  {
   "cell_type": "markdown",
   "metadata": {},
   "source": [
    "## import prepared city list."
   ]
  },
  {
   "cell_type": "code",
   "execution_count": 1,
   "metadata": {},
   "outputs": [
    {
     "data": {
      "text/html": [
       "<div>\n",
       "<style scoped>\n",
       "    .dataframe tbody tr th:only-of-type {\n",
       "        vertical-align: middle;\n",
       "    }\n",
       "\n",
       "    .dataframe tbody tr th {\n",
       "        vertical-align: top;\n",
       "    }\n",
       "\n",
       "    .dataframe thead th {\n",
       "        text-align: right;\n",
       "    }\n",
       "</style>\n",
       "<table border=\"1\" class=\"dataframe\">\n",
       "  <thead>\n",
       "    <tr style=\"text-align: right;\">\n",
       "      <th></th>\n",
       "      <th>Unnamed: 0</th>\n",
       "      <th>City</th>\n",
       "      <th>Lat</th>\n",
       "      <th>Lng</th>\n",
       "    </tr>\n",
       "  </thead>\n",
       "  <tbody>\n",
       "    <tr>\n",
       "      <th>0</th>\n",
       "      <td>0</td>\n",
       "      <td>nouadhibou</td>\n",
       "      <td>23.727049</td>\n",
       "      <td>-21.318776</td>\n",
       "    </tr>\n",
       "    <tr>\n",
       "      <th>1</th>\n",
       "      <td>1</td>\n",
       "      <td>yellowknife</td>\n",
       "      <td>63.227112</td>\n",
       "      <td>-108.372052</td>\n",
       "    </tr>\n",
       "  </tbody>\n",
       "</table>\n",
       "</div>"
      ],
      "text/plain": [
       "   Unnamed: 0         City        Lat         Lng\n",
       "0           0   nouadhibou  23.727049  -21.318776\n",
       "1           1  yellowknife  63.227112 -108.372052"
      ]
     },
     "execution_count": 1,
     "metadata": {},
     "output_type": "execute_result"
    }
   ],
   "source": [
    "# Import the dependencies.\n",
    "import pandas as pd\n",
    "import numpy as np\n",
    "\n",
    "# read back prepared city list\n",
    "city_coord_file = \"Resources/city_coord.csv\"\n",
    "city_coord_df = pd.read_csv(city_coord_file)\n",
    "city_coord_df.head(2)"
   ]
  },
  {
   "cell_type": "code",
   "execution_count": 2,
   "metadata": {},
   "outputs": [
    {
     "data": {
      "text/plain": [
       "['nouadhibou', 'yellowknife']"
      ]
     },
     "execution_count": 2,
     "metadata": {},
     "output_type": "execute_result"
    }
   ],
   "source": [
    "## ensure it is python list\n",
    "cities = city_coord_df[\"City\"].tolist()\n",
    "cities[0:2]"
   ]
  },
  {
   "cell_type": "code",
   "execution_count": 3,
   "metadata": {},
   "outputs": [],
   "source": [
    "# Import the requests library.\n",
    "import requests\n",
    "\n",
    "# Import the API key.\n",
    "from config import weather_api_key"
   ]
  },
  {
   "cell_type": "code",
   "execution_count": 4,
   "metadata": {},
   "outputs": [],
   "source": [
    "# Starting URL for Weather Map API Call.\n",
    "url = \"http://api.openweathermap.org/data/2.5/weather?units=Imperial&APPID=\" + weather_api_key\n",
    "#print(url)"
   ]
  },
  {
   "cell_type": "code",
   "execution_count": 5,
   "metadata": {},
   "outputs": [],
   "source": [
    "# Import the datetime module from the datetime library.\n",
    "from datetime import datetime"
   ]
  },
  {
   "cell_type": "code",
   "execution_count": 6,
   "metadata": {},
   "outputs": [
    {
     "data": {
      "text/plain": [
       "1223"
      ]
     },
     "execution_count": 6,
     "metadata": {},
     "output_type": "execute_result"
    }
   ],
   "source": [
    "# California cities\n",
    "califoria_cities = [\n",
    "    \"Alameda\", \"Alhambra\", \"Anaheim\", \"Antioch\", \"Arcadia\",\n",
    "    \"Bakersfield\", \"Barstow\", \"Belmont\", \"Berkeley\", \"Beverly Hills\", \"Brea\", \"Buena Park\", \"Burbank\",\n",
    "    \"Calexico\", \"Calistoga\", \"Carlsbad\", \"Carmel\", \"Chico\", \"Chula Vista\", \"Claremont\", \"Compton\", \"Concord\",\n",
    "        \"Corona\", \"Coronado\", \"Costa Mesa\", \"Culver City\",\n",
    "    \"Daly City\", \"Davis\", \"Downey\",\n",
    "    \"El Centro\", \"El Cerrito\", \"El Monte\", \"Escondido\", \"Eureka\",\n",
    "    \"Fairfield\", \"Fontana\", \"Fremont\", \"Fresno\", \"Fullerton\",\n",
    "    \"Garden Grove\", \"Glendale\",\n",
    "    \"Hayward\", \"Hollywood\", \"Huntington Beach\",\n",
    "    \"Indio\", \"Inglewood\", \"Irvine\",\n",
    "    \"La Habra\", \"Laguna Beach\", \"Lancaster\", \"Livermore\", \"Lodi\", \"Lompoc\", \"Long Beach\", \"Los Angeles\",\n",
    "    \"Malibu\", \"Martinez\", \"Marysville\", \"Menlo Park\", \"Merced\", \"Modesto\", \"Monterey\", \"Mountain View\",\n",
    "    \"Napa\", \"Needles\", \"Newport Beach\", \"Norwalk\", \"Novato\",\n",
    "    \"Oakland\", \"Oceanside\", \"Ojai\", \"Ontario\", \"Orange\", \"Oroville\", \"Oxnard\",\n",
    "    \"Pacific Grove\", \"Palm Springs\", \"Palmdale\", \"Palo Alto\", \"Pasadena\", \"Petaluma\", \"Pomona\", \"Port Hueneme\",\n",
    "    \"Rancho Cucamonga\", \"Red Bluff\", \"Redding\", \"Redlands\", \"Redondo Beach\", \"Redwood City\", \"Richmond\", \"Riverside\", \"Roseville\",\n",
    "    \"Sacramento\", \"Salinas\", \"San Bernardino\", \"San Clemente\", \"San Diego\", \"San Fernando\", \"San Francisco\",\n",
    "        \"San Gabriel\", \"San Jose\", \"San Juan Capistrano\", \"San Leandro\", \"San Luis Obispo\", \"San Marino\", \"San Mateo\",\n",
    "        \"San Pedro\", \"San Rafael\", \"San Simeon\", \"Santa Ana\", \"Santa Barbara\", \"Santa Clara\", \"Santa Clarita\",\n",
    "        \"Santa Cruz\", \"Santa Monica\", \"Santa Rosa\", \"Sausalito\", \"Simi Valley\", \"Sonoma\", \"South San Francisco\",\n",
    "        \"Stockton\", \"Sunnyvale\", \"Susanville\",\n",
    "    \"Thousand Oaks\", \"Torrance\", \"Turlock\",\n",
    "    \"Ukiah\",\n",
    "    \"Vallejo\", \"Ventura\", \"Victorville\", \"Visalia\",\n",
    "    \"Walnut Creek\", \"Watts\", \"West Covina\", \"Whittier\", \"Woodland\",\n",
    "    \"Yorba Linda\", \"Yuba City\"]\n",
    "massachusetts_cities = [\n",
    "    \"Abington\", \"Adams\", \"Amesbury\", \"Amherst\", \"Andover\", \"Arlington\", \"Athol\", \"Attleboro\",\n",
    "    \"Barnstable\", \"Bedford\", \"Beverly\", \"Boston\", \"Bourne\", \"Braintree\", \"Brockton\", \"Brookline\",\n",
    "    \"Cambridge\", \"Canton\", \"Charlestown\", \"Chelmsford\", \"Chelsea\", \"Chicopee\", \"Clinton\", \"Cohasset\", \"Concord\",\n",
    "    \"Danvers\", \"Dartmouth\", \"Dedham\", \"Dennis\", \"Duxbury\",\n",
    "    \"Eastham\", \"Edgartown\", \"Everett\",\n",
    "    \"Fairhaven\", \"Fall River\", \"Falmouth\", \"Fitchburg\", \"Framingham\",\n",
    "    \"Gloucester\", \"Great Barrington\", \"Greenfield\", \"Groton\",\n",
    "    \"Harwich\", \"Haverhill\", \"Hingham\", \"Holyoke\", \"Hyannis\",\n",
    "    \"Ipswich\", \"Lawrence\", \"Lenox\", \"Leominster\", \"Lexington\",\n",
    "    \"Lowell\", \"Ludlow\", \"Lynn\",\n",
    "    \"Malden\", \"Marblehead\", \"Marlborough\", \"Medford\", \"Milton\",\n",
    "    \"Nahant\", \"Natick\", \"New Bedford\", \"Newburyport\", \"Newton\", \"North Adams\", \"Northampton\", \"Norton\", \"Norwood\",\n",
    "    \"Peabody\", \"Pittsfield\", \"Plymouth\", \"Provincetown\",\n",
    "    \"Quincy\",\n",
    "    \"Randolph\", \"Revere\",\n",
    "    \"Salem\", \"Sandwich\", \"Saugus\", \"Somerville\", \"South Hadley\", \"Springfield\", \"Stockbridge\", \"Stoughton\", \"Sturbridge\", \"Sudbury\",\n",
    "    \"Taunton\", \"Tewksbury\", \"Truro\",\n",
    "    \"Watertown\", \"Webster\", \"Wellesley\", \"Wellfleet\", \"West Bridgewater\", \"West Springfield\", \"Westfield\",\n",
    "        \"Weymouth\", \"Whitman\", \"Williamstown\", \"Woburn\", \"Woods Hole\", \"Worcester\"]\n",
    "florida_cities = [\n",
    "    \"Apalachicola\",\n",
    "    \"Bartow\", \"Belle Glade\", \"Boca Raton\", \"Bradenton\",\n",
    "    \"Cape Coral\", \"Clearwater\", \"Cocoa Beach\", \"Cocoa-Rockledge\", \"Coral Gables\",\n",
    "    \"Daytona Beach\", \"De Land\", \"Deerfield Beach\", \"Delray Beach\",\n",
    "    \"Fernandina Beach\", \"Fort Lauderdale\", \"Fort Myers\", \"Fort Pierce\", \"Fort Walton Beach\",\n",
    "    \"Gainesville\",\n",
    "    \"Hallandale Beach\", \"Hialeah\", \"Hollywood\", \"Homestead\",\n",
    "    \"Jacksonville\",\n",
    "    \"Key West\",\n",
    "    \"Lake City\", \"Lake Wales\", \"Lakeland\", \"Largo\",\n",
    "    \"Melbourne\", \"Miami\", \"Miami Beach\",\n",
    "    \"Naples\", \"New Smyrna Beach\",\n",
    "    \"Ocala\", \"Orlando\", \"Ormond Beach\",\n",
    "    \"Palatka\", \"Palm Bay\", \"Palm Beach\", \"Panama City\", \"Pensacola\", \"Pompano Beach\",\n",
    "    \"Saint Augustine\", \"Saint Petersburg\", \"Sanford\", \"Sarasota\", \"Sebring\",\n",
    "    \"Tallahassee\", \"Tampa\", \"Tarpon Springs\", \"Titusville\",\n",
    "    \"Venice\",\n",
    "    \"West Palm Beach\", \"White Springs\", \"Winter Haven\", \"Winter Park\"]\n",
    "hawaii_cities = [\n",
    "    \"Hanalei\", \"Hilo\", \"Honaunau\", \"Honolulu\",\n",
    "    \"Kahului\", \"Kaneohe\", \"Kapaa\", \"Kawaihae\",\n",
    "    \"Lahaina\", \"Laie\", \"Wahiawa\", \"Wailuku\", \"Waimea\"]\n",
    "texas_cities = [\n",
    "    \"Abilene\", \"Alpine\", \"Amarillo\", \"Arlington\", \"Austin\",\n",
    "    \"Baytown\", \"Beaumont\", \"Big Spring\", \"Borger\", \"Brownsville\", \"Bryan\",\n",
    "    \"Canyon\", \"Cleburne\", \"College Station\", \"Corpus Christi\", \"Crystal City\",\n",
    "    \"Dallas\", \"Del Rio\", \"Denison\", \"Denton\",\n",
    "    \"Eagle Pass\", \"Edinburg\", \"El Paso\",\n",
    "    \"Fort Worth\", \"Freeport\",\n",
    "    \"Galveston\", \"Garland\", \"Goliad\", \"Greenville\",\n",
    "    \"Harlingen\", \"Houston\", \"Huntsville\",\n",
    "    \"Irving\",\n",
    "    \"Johnson City\",\n",
    "    \"Kilgore\", \"Killeen\", \"Kingsville\",\n",
    "    \"Laredo\", \"Longview\", \"Lubbock\", \"Lufkin\",\n",
    "    \"Marshall\", \"McAllen\", \"McKinney\", \"Mesquite\", \"Midland\", \"Mission\",\n",
    "    \"Nacogdoches\", \"New Braunfels\",\n",
    "    \"Odessa\", \"Orange\",\n",
    "    \"Pampa\", \"Paris\", \"Pasadena\", \"Pecos\", \"Pharr\", \"Plainview\", \"Plano\", \"Port Arthur\", \"Port Lavaca\",\n",
    "    \"Richardson\",\n",
    "    \"San Angelo\", \"San Antonio\", \"San Felipe\", \"San Marcos\", \"Sherman\", \"Sweetwater\",\n",
    "    \"Temple\", \"Texarkana\", \"Texas City\", \"Tyler\",\n",
    "    \"Uvalde\",\n",
    "    \"Victoria\",\n",
    "    \"Waco\", \"Weatherford\", \"Wichita Falls\",\n",
    "    \"Ysleta\"]\n",
    "# that is all, use only if not prepared.\n",
    "if not cities: \n",
    "    cities = califoria_cities + massachusetts_cities + florida_cities + hawaii_cities + texas_cities\n",
    "len(cities)"
   ]
  },
  {
   "cell_type": "code",
   "execution_count": 7,
   "metadata": {},
   "outputs": [
    {
     "name": "stdout",
     "output_type": "stream",
     "text": [
      "Pull city weather data again: False\n"
     ]
    }
   ],
   "source": [
    "# we don't need to get the latest weather data every time.\n",
    "# set to True, always fetch latest;\n",
    "# set to False, may still fetch latest if previous data is not \"good\"\n",
    "pull_weather_data_flag = False\n",
    "\n",
    "# weather date is here (CSV).\n",
    "city_weather_file = \"weather_data/cities.csv\"\n",
    "# Read city weather file.\n",
    "city_data_df = pd.read_csv(city_weather_file)\n",
    "\n",
    "if len(city_data_df.index) < 2:\n",
    "    pull_weather_data_flag = True\n",
    "    \n",
    "print(f\"Pull city weather data again: {pull_weather_data_flag}\")"
   ]
  },
  {
   "cell_type": "code",
   "execution_count": 8,
   "metadata": {},
   "outputs": [],
   "source": [
    "if pull_weather_data_flag:\n",
    "    # Create an empty list to hold the weather data.\n",
    "    city_data = []\n",
    "    # Print the beginning of the logging.\n",
    "    print(\"Beginning Data Retrieval     \")\n",
    "    print(\"-----------------------------\")\n",
    "\n",
    "    # Create counters.\n",
    "    record_count = 1\n",
    "    set_count = 1\n",
    "\n",
    "    # Loop through all the cities in the list.\n",
    "    for i, city in enumerate(cities):\n",
    "\n",
    "        # Group cities in sets of 50 for logging purposes.\n",
    "        if (i % 50 == 0 and i >= 50):\n",
    "            set_count += 1\n",
    "            record_count = 1\n",
    "        # Create endpoint URL with each city.\n",
    "        city_url = url + \"&q=\" + city\n",
    "\n",
    "        # Log the URL, record, and set numbers and the city.\n",
    "        print(f\"Processing Record {record_count} of Set {set_count} | {city}\")\n",
    "        # Add 1 to the record count.\n",
    "        record_count += 1\n",
    "\n",
    "        # Run an API request for each of the cities.\n",
    "        try:\n",
    "            # Parse the JSON and retrieve data.\n",
    "            city_weather = requests.get(city_url).json()\n",
    "            # Parse out the needed data.\n",
    "            city_lat = city_weather[\"coord\"][\"lat\"]\n",
    "            city_lng = city_weather[\"coord\"][\"lon\"]\n",
    "            city_max_temp = city_weather[\"main\"][\"temp_max\"]\n",
    "            city_humidity = city_weather[\"main\"][\"humidity\"]\n",
    "            city_clouds = city_weather[\"clouds\"][\"all\"]\n",
    "            city_wind = city_weather[\"wind\"][\"speed\"]\n",
    "            city_country = city_weather[\"sys\"][\"country\"]\n",
    "            # Convert the date to ISO standard.\n",
    "            city_date = datetime.utcfromtimestamp(city_weather[\"dt\"]).strftime('%Y-%m-%d %H:%M:%S')\n",
    "            # Append the city information into city_data list.\n",
    "            city_data.append({\"City\": city.title(),\n",
    "                              \"Lat\": city_lat,\n",
    "                              \"Lng\": city_lng,\n",
    "                              \"Max Temp\": city_max_temp,\n",
    "                              \"Humidity\": city_humidity,\n",
    "                              \"Cloudiness\": city_clouds,\n",
    "                              \"Wind Speed\": city_wind,\n",
    "                              \"Country\": city_country,\n",
    "                              \"Date\": city_date})\n",
    "\n",
    "    # If an error is experienced, skip the city.\n",
    "        except:\n",
    "            print(\"City not found. Skipping...\")\n",
    "            pass\n",
    "\n",
    "    # Indicate that Data Loading is complete.\n",
    "    print(\"-----------------------------\")\n",
    "    print(\"Data Retrieval Complete      \")\n",
    "    print(\"-----------------------------\")"
   ]
  },
  {
   "cell_type": "markdown",
   "metadata": {},
   "source": [
    "## 6.2.7 Create DataFrame from Weather Data"
   ]
  },
  {
   "cell_type": "code",
   "execution_count": 9,
   "metadata": {},
   "outputs": [],
   "source": [
    "import pandas as pd\n",
    "\n",
    "# Convert the array of dictionaries to a Pandas DataFrame.\n",
    "if pull_weather_data_flag:\n",
    "    city_data_df = pd.DataFrame(city_data)\n",
    "    # change the order of columns\n",
    "    new_column_order = [\"City\", \"Country\", \"Date\", \"Lat\", \"Lng\", \"Max Temp\", \"Humidity\", \"Cloudiness\", \"Wind Speed\"]\n",
    "    city_data_df = city_data_df[new_column_order]    \n",
    "    city_data_df.head(2)"
   ]
  },
  {
   "cell_type": "markdown",
   "metadata": {},
   "source": [
    "# weather_data/cities.csv must exist first !! ??"
   ]
  },
  {
   "cell_type": "code",
   "execution_count": 10,
   "metadata": {},
   "outputs": [],
   "source": [
    "if pull_weather_data_flag:\n",
    "    # Export the City_Data into a CSV.\n",
    "    city_data_df.to_csv(city_weather_file, index_label=\"City_ID\")"
   ]
  },
  {
   "cell_type": "code",
   "execution_count": null,
   "metadata": {},
   "outputs": [],
   "source": []
  }
 ],
 "metadata": {
  "kernelspec": {
   "display_name": "PythonData",
   "language": "python",
   "name": "pythondata"
  },
  "language_info": {
   "codemirror_mode": {
    "name": "ipython",
    "version": 3
   },
   "file_extension": ".py",
   "mimetype": "text/x-python",
   "name": "python",
   "nbconvert_exporter": "python",
   "pygments_lexer": "ipython3",
   "version": "3.7.4"
  }
 },
 "nbformat": 4,
 "nbformat_minor": 4
}
