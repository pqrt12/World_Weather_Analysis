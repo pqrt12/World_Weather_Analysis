{
 "cells": [
  {
   "cell_type": "code",
   "execution_count": 1,
   "metadata": {},
   "outputs": [],
   "source": [
    "# Import the requests library.\n",
    "import requests\n",
    "\n",
    "# Import the API key.\n",
    "from config import weather_api_key"
   ]
  },
  {
   "cell_type": "code",
   "execution_count": 2,
   "metadata": {},
   "outputs": [],
   "source": [
    "# Starting URL for Weather Map API Call.\n",
    "url = \"http://api.openweathermap.org/data/2.5/weather?units=Imperial&APPID=\" + weather_api_key\n",
    "#print(url)"
   ]
  },
  {
   "cell_type": "code",
   "execution_count": 3,
   "metadata": {},
   "outputs": [],
   "source": [
    "# Import the datetime module from the datetime library.\n",
    "from datetime import datetime"
   ]
  },
  {
   "cell_type": "code",
   "execution_count": 4,
   "metadata": {},
   "outputs": [
    {
     "name": "stdout",
     "output_type": "stream",
     "text": [
      "Beginning Data Retrieval     \n",
      "-----------------------------\n"
     ]
    }
   ],
   "source": [
    "# Create an empty list to hold the weather data.\n",
    "city_data = []\n",
    "# Print the beginning of the logging.\n",
    "print(\"Beginning Data Retrieval     \")\n",
    "print(\"-----------------------------\")\n",
    "\n",
    "# Create counters.\n",
    "record_count = 1\n",
    "set_count = 1"
   ]
  },
  {
   "cell_type": "code",
   "execution_count": 5,
   "metadata": {},
   "outputs": [
    {
     "data": {
      "text/plain": [
       "138"
      ]
     },
     "execution_count": 5,
     "metadata": {},
     "output_type": "execute_result"
    }
   ],
   "source": [
    "# given a list of cities\n",
    "# California cities\n",
    "califoria_cities = [\n",
    "    \"Alameda\", \"Alhambra\", \"Anaheim\", \"Antioch\", \"Arcadia\",\n",
    "    \"Bakersfield\", \"Barstow\", \"Belmont\", \"Berkeley\", \"Beverly Hills\", \"Brea\", \"Buena Park\", \"Burbank\",\n",
    "    \"Calexico\", \"Calistoga\", \"Carlsbad\", \"Carmel\", \"Chico\", \"Chula Vista\", \"Claremont\", \"Compton\", \"Concord\",\n",
    "        \"Corona\", \"Coronado\", \"Costa Mesa\", \"Culver City\",\n",
    "    \"Daly City\", \"Davis\", \"Downey\",\n",
    "    \"El Centro\", \"El Cerrito\", \"El Monte\", \"Escondido\", \"Eureka\",\n",
    "    \"Fairfield\", \"Fontana\", \"Fremont\", \"Fresno\", \"Fullerton\",\n",
    "    \"Garden Grove\", \"Glendale\",\n",
    "    \"Hayward\", \"Hollywood\", \"Huntington Beach\",\n",
    "    \"Indio\", \"Inglewood\", \"Irvine\",\n",
    "    \"La Habra\", \"Laguna Beach\", \"Lancaster\", \"Livermore\", \"Lodi\", \"Lompoc\", \"Long Beach\", \"Los Angeles\",\n",
    "    \"Malibu\", \"Martinez\", \"Marysville\", \"Menlo Park\", \"Merced\", \"Modesto\", \"Monterey\", \"Mountain View\",\n",
    "    \"Napa\", \"Needles\", \"Newport Beach\", \"Norwalk\", \"Novato\",\n",
    "    \"Oakland\", \"Oceanside\", \"Ojai\", \"Ontario\", \"Orange\", \"Oroville\", \"Oxnard\",\n",
    "    \"Pacific Grove\", \"Palm Springs\", \"Palmdale\", \"Palo Alto\", \"Pasadena\", \"Petaluma\", \"Pomona\", \"Port Hueneme\",\n",
    "    \"Rancho Cucamonga\", \"Red Bluff\", \"Redding\", \"Redlands\", \"Redondo Beach\", \"Redwood City\", \"Richmond\", \"Riverside\", \"Roseville\",\n",
    "    \"Sacramento\", \"Salinas\", \"San Bernardino\", \"San Clemente\", \"San Diego\", \"San Fernando\", \"San Francisco\",\n",
    "        \"San Gabriel\", \"San Jose\", \"San Juan Capistrano\", \"San Leandro\", \"San Luis Obispo\", \"San Marino\", \"San Mateo\",\n",
    "        \"San Pedro\", \"San Rafael\", \"San Simeon\", \"Santa Ana\", \"Santa Barbara\", \"Santa Clara\", \"Santa Clarita\",\n",
    "        \"Santa Cruz\", \"Santa Monica\", \"Santa Rosa\", \"Sausalito\", \"Simi Valley\", \"Sonoma\", \"South San Francisco\",\n",
    "        \"Stockton\", \"Sunnyvale\", \"Susanville\",\n",
    "    \"Thousand Oaks\", \"Torrance\", \"Turlock\",\n",
    "    \"Ukiah\",\n",
    "    \"Vallejo\", \"Ventura\", \"Victorville\", \"Visalia\",\n",
    "    \"Walnut Creek\", \"Watts\", \"West Covina\", \"Whittier\", \"Woodland\",\n",
    "    \"Yorba Linda\", \"Yuba City\"]\n",
    "len(califoria_cities)"
   ]
  },
  {
   "cell_type": "code",
   "execution_count": 6,
   "metadata": {},
   "outputs": [
    {
     "data": {
      "text/plain": [
       "102"
      ]
     },
     "execution_count": 6,
     "metadata": {},
     "output_type": "execute_result"
    }
   ],
   "source": [
    "massachusetts_cities = [\n",
    "    \"Abington\", \"Adams\", \"Amesbury\", \"Amherst\", \"Andover\", \"Arlington\", \"Athol\", \"Attleboro\",\n",
    "    \"Barnstable\", \"Bedford\", \"Beverly\", \"Boston\", \"Bourne\", \"Braintree\", \"Brockton\", \"Brookline\",\n",
    "    \"Cambridge\", \"Canton\", \"Charlestown\", \"Chelmsford\", \"Chelsea\", \"Chicopee\", \"Clinton\", \"Cohasset\", \"Concord\",\n",
    "    \"Danvers\", \"Dartmouth\", \"Dedham\", \"Dennis\", \"Duxbury\",\n",
    "    \"Eastham\", \"Edgartown\", \"Everett\",\n",
    "    \"Fairhaven\", \"Fall River\", \"Falmouth\", \"Fitchburg\", \"Framingham\",\n",
    "    \"Gloucester\", \"Great Barrington\", \"Greenfield\", \"Groton\",\n",
    "    \"Harwich\", \"Haverhill\", \"Hingham\", \"Holyoke\", \"Hyannis\",\n",
    "    \"Ipswich\", \"Lawrence\", \"Lenox\", \"Leominster\", \"Lexington\",\n",
    "    \"Lowell\", \"Ludlow\", \"Lynn\",\n",
    "    \"Malden\", \"Marblehead\", \"Marlborough\", \"Medford\", \"Milton\",\n",
    "    \"Nahant\", \"Natick\", \"New Bedford\", \"Newburyport\", \"Newton\", \"North Adams\", \"Northampton\", \"Norton\", \"Norwood\",\n",
    "    \"Peabody\", \"Pittsfield\", \"Plymouth\", \"Provincetown\",\n",
    "    \"Quincy\",\n",
    "    \"Randolph\", \"Revere\",\n",
    "    \"Salem\", \"Sandwich\", \"Saugus\", \"Somerville\", \"South Hadley\", \"Springfield\", \"Stockbridge\", \"Stoughton\", \"Sturbridge\", \"Sudbury\",\n",
    "    \"Taunton\", \"Tewksbury\", \"Truro\",\n",
    "    \"Watertown\", \"Webster\", \"Wellesley\", \"Wellfleet\", \"West Bridgewater\", \"West Springfield\", \"Westfield\",\n",
    "        \"Weymouth\", \"Whitman\", \"Williamstown\", \"Woburn\", \"Woods Hole\", \"Worcester\"]\n",
    "len(massachusetts_cities)"
   ]
  },
  {
   "cell_type": "code",
   "execution_count": 7,
   "metadata": {},
   "outputs": [
    {
     "data": {
      "text/plain": [
       "58"
      ]
     },
     "execution_count": 7,
     "metadata": {},
     "output_type": "execute_result"
    }
   ],
   "source": [
    "florida_cities = [\n",
    "    \"Apalachicola\",\n",
    "    \"Bartow\", \"Belle Glade\", \"Boca Raton\", \"Bradenton\",\n",
    "    \"Cape Coral\", \"Clearwater\", \"Cocoa Beach\", \"Cocoa-Rockledge\", \"Coral Gables\",\n",
    "    \"Daytona Beach\", \"De Land\", \"Deerfield Beach\", \"Delray Beach\",\n",
    "    \"Fernandina Beach\", \"Fort Lauderdale\", \"Fort Myers\", \"Fort Pierce\", \"Fort Walton Beach\",\n",
    "    \"Gainesville\",\n",
    "    \"Hallandale Beach\", \"Hialeah\", \"Hollywood\", \"Homestead\",\n",
    "    \"Jacksonville\",\n",
    "    \"Key West\",\n",
    "    \"Lake City\", \"Lake Wales\", \"Lakeland\", \"Largo\",\n",
    "    \"Melbourne\", \"Miami\", \"Miami Beach\",\n",
    "    \"Naples\", \"New Smyrna Beach\",\n",
    "    \"Ocala\", \"Orlando\", \"Ormond Beach\",\n",
    "    \"Palatka\", \"Palm Bay\", \"Palm Beach\", \"Panama City\", \"Pensacola\", \"Pompano Beach\",\n",
    "    \"Saint Augustine\", \"Saint Petersburg\", \"Sanford\", \"Sarasota\", \"Sebring\",\n",
    "    \"Tallahassee\", \"Tampa\", \"Tarpon Springs\", \"Titusville\",\n",
    "    \"Venice\",\n",
    "    \"West Palm Beach\", \"White Springs\", \"Winter Haven\", \"Winter Park\"]\n",
    "len(florida_cities)"
   ]
  },
  {
   "cell_type": "code",
   "execution_count": 8,
   "metadata": {},
   "outputs": [
    {
     "data": {
      "text/plain": [
       "13"
      ]
     },
     "execution_count": 8,
     "metadata": {},
     "output_type": "execute_result"
    }
   ],
   "source": [
    "hawaii_cities = [\n",
    "    \"Hanalei\", \"Hilo\", \"Honaunau\", \"Honolulu\",\n",
    "    \"Kahului\", \"Kaneohe\", \"Kapaa\", \"Kawaihae\",\n",
    "    \"Lahaina\", \"Laie\", \"Wahiawa\", \"Wailuku\", \"Waimea\"]\n",
    "len(hawaii_cities)"
   ]
  },
  {
   "cell_type": "code",
   "execution_count": 9,
   "metadata": {},
   "outputs": [
    {
     "data": {
      "text/plain": [
       "77"
      ]
     },
     "execution_count": 9,
     "metadata": {},
     "output_type": "execute_result"
    }
   ],
   "source": [
    "texas_cities = [\n",
    "    \"Abilene\", \"Alpine\", \"Amarillo\", \"Arlington\", \"Austin\",\n",
    "    \"Baytown\", \"Beaumont\", \"Big Spring\", \"Borger\", \"Brownsville\", \"Bryan\",\n",
    "    \"Canyon\", \"Cleburne\", \"College Station\", \"Corpus Christi\", \"Crystal City\",\n",
    "    \"Dallas\", \"Del Rio\", \"Denison\", \"Denton\",\n",
    "    \"Eagle Pass\", \"Edinburg\", \"El Paso\",\n",
    "    \"Fort Worth\", \"Freeport\",\n",
    "    \"Galveston\", \"Garland\", \"Goliad\", \"Greenville\",\n",
    "    \"Harlingen\", \"Houston\", \"Huntsville\",\n",
    "    \"Irving\",\n",
    "    \"Johnson City\",\n",
    "    \"Kilgore\", \"Killeen\", \"Kingsville\",\n",
    "    \"Laredo\", \"Longview\", \"Lubbock\", \"Lufkin\",\n",
    "    \"Marshall\", \"McAllen\", \"McKinney\", \"Mesquite\", \"Midland\", \"Mission\",\n",
    "    \"Nacogdoches\", \"New Braunfels\",\n",
    "    \"Odessa\", \"Orange\",\n",
    "    \"Pampa\", \"Paris\", \"Pasadena\", \"Pecos\", \"Pharr\", \"Plainview\", \"Plano\", \"Port Arthur\", \"Port Lavaca\",\n",
    "    \"Richardson\",\n",
    "    \"San Angelo\", \"San Antonio\", \"San Felipe\", \"San Marcos\", \"Sherman\", \"Sweetwater\",\n",
    "    \"Temple\", \"Texarkana\", \"Texas City\", \"Tyler\",\n",
    "    \"Uvalde\",\n",
    "    \"Victoria\",\n",
    "    \"Waco\", \"Weatherford\", \"Wichita Falls\",\n",
    "    \"Ysleta\"]\n",
    "len(texas_cities)"
   ]
  },
  {
   "cell_type": "code",
   "execution_count": 10,
   "metadata": {},
   "outputs": [
    {
     "data": {
      "text/plain": [
       "13"
      ]
     },
     "execution_count": 10,
     "metadata": {},
     "output_type": "execute_result"
    }
   ],
   "source": [
    "# that is all\n",
    "#cities = califoria_cities + massachusetts_cities + florida_cities + hawaii_cities + texas_cities\n",
    "cities = hawaii_cities\n",
    "len(cities)"
   ]
  },
  {
   "cell_type": "code",
   "execution_count": 11,
   "metadata": {},
   "outputs": [
    {
     "name": "stdout",
     "output_type": "stream",
     "text": [
      "Processing Record 1 of Set 1 | Hanalei\n",
      "Processing Record 2 of Set 1 | Hilo\n",
      "Processing Record 3 of Set 1 | Honaunau\n",
      "Processing Record 4 of Set 1 | Honolulu\n",
      "Processing Record 5 of Set 1 | Kahului\n",
      "Processing Record 6 of Set 1 | Kaneohe\n",
      "Processing Record 7 of Set 1 | Kapaa\n",
      "Processing Record 8 of Set 1 | Kawaihae\n",
      "Processing Record 9 of Set 1 | Lahaina\n",
      "Processing Record 10 of Set 1 | Laie\n",
      "Processing Record 11 of Set 1 | Wahiawa\n",
      "Processing Record 12 of Set 1 | Wailuku\n",
      "Processing Record 13 of Set 1 | Waimea\n"
     ]
    }
   ],
   "source": [
    "# Loop through all the cities in the list.\n",
    "for i, city in enumerate(cities):\n",
    "\n",
    "    # Group cities in sets of 50 for logging purposes.\n",
    "    if (i % 50 == 0 and i >= 50):\n",
    "        set_count += 1\n",
    "        record_count = 1\n",
    "    # Create endpoint URL with each city.\n",
    "    city_url = url + \"&q=\" + city\n",
    "\n",
    "    # Log the URL, record, and set numbers and the city.\n",
    "    print(f\"Processing Record {record_count} of Set {set_count} | {city}\")\n",
    "    # Add 1 to the record count.\n",
    "    record_count += 1"
   ]
  },
  {
   "cell_type": "code",
   "execution_count": 12,
   "metadata": {},
   "outputs": [
    {
     "name": "stdout",
     "output_type": "stream",
     "text": [
      "Beginning Data Retrieval     \n",
      "-----------------------------\n",
      "Processing Record 1 of Set 1 | Hanalei\n",
      "Processing Record 2 of Set 1 | Hilo\n",
      "Processing Record 3 of Set 1 | Honaunau\n",
      "City not found. Skipping...\n",
      "Processing Record 4 of Set 1 | Honolulu\n",
      "Processing Record 5 of Set 1 | Kahului\n",
      "Processing Record 6 of Set 1 | Kaneohe\n",
      "Processing Record 7 of Set 1 | Kapaa\n",
      "Processing Record 8 of Set 1 | Kawaihae\n",
      "Processing Record 9 of Set 1 | Lahaina\n",
      "Processing Record 10 of Set 1 | Laie\n",
      "Processing Record 11 of Set 1 | Wahiawa\n",
      "Processing Record 12 of Set 1 | Wailuku\n",
      "Processing Record 13 of Set 1 | Waimea\n",
      "-----------------------------\n",
      "Data Retrieval Complete      \n",
      "-----------------------------\n"
     ]
    }
   ],
   "source": [
    "# Create an empty list to hold the weather data.\n",
    "city_data = []\n",
    "# Print the beginning of the logging.\n",
    "print(\"Beginning Data Retrieval     \")\n",
    "print(\"-----------------------------\")\n",
    "\n",
    "# Create counters.\n",
    "record_count = 1\n",
    "set_count = 1\n",
    "\n",
    "# Loop through all the cities in the list.\n",
    "for i, city in enumerate(cities):\n",
    "\n",
    "    # Group cities in sets of 50 for logging purposes.\n",
    "    if (i % 50 == 0 and i >= 50):\n",
    "        set_count += 1\n",
    "        record_count = 1\n",
    "    # Create endpoint URL with each city.\n",
    "    city_url = url + \"&q=\" + city\n",
    "\n",
    "    # Log the URL, record, and set numbers and the city.\n",
    "    print(f\"Processing Record {record_count} of Set {set_count} | {city}\")\n",
    "    # Add 1 to the record count.\n",
    "    record_count += 1\n",
    "    \n",
    "    # Run an API request for each of the cities.\n",
    "    try:\n",
    "        # Parse the JSON and retrieve data.\n",
    "        city_weather = requests.get(city_url).json()\n",
    "        # Parse out the needed data.\n",
    "        city_lat = city_weather[\"coord\"][\"lat\"]\n",
    "        city_lng = city_weather[\"coord\"][\"lon\"]\n",
    "        city_max_temp = city_weather[\"main\"][\"temp_max\"]\n",
    "        city_humidity = city_weather[\"main\"][\"humidity\"]\n",
    "        city_clouds = city_weather[\"clouds\"][\"all\"]\n",
    "        city_wind = city_weather[\"wind\"][\"speed\"]\n",
    "        city_country = city_weather[\"sys\"][\"country\"]\n",
    "        # Convert the date to ISO standard.\n",
    "        city_date = datetime.utcfromtimestamp(city_weather[\"dt\"]).strftime('%Y-%m-%d %H:%M:%S')\n",
    "        # Append the city information into city_data list.\n",
    "        city_data.append({\"City\": city.title(),\n",
    "                          \"Lat\": city_lat,\n",
    "                          \"Lng\": city_lng,\n",
    "                          \"Max Temp\": city_max_temp,\n",
    "                          \"Humidity\": city_humidity,\n",
    "                          \"Cloudiness\": city_clouds,\n",
    "                          \"Wind Speed\": city_wind,\n",
    "                          \"Country\": city_country,\n",
    "                          \"Date\": city_date})\n",
    "\n",
    "# If an error is experienced, skip the city.\n",
    "    except:\n",
    "        print(\"City not found. Skipping...\")\n",
    "        pass\n",
    "\n",
    "# Indicate that Data Loading is complete.\n",
    "print(\"-----------------------------\")\n",
    "print(\"Data Retrieval Complete      \")\n",
    "print(\"-----------------------------\")"
   ]
  },
  {
   "cell_type": "code",
   "execution_count": 13,
   "metadata": {},
   "outputs": [
    {
     "data": {
      "text/plain": [
       "13"
      ]
     },
     "execution_count": 13,
     "metadata": {},
     "output_type": "execute_result"
    }
   ],
   "source": [
    "len(cities)"
   ]
  },
  {
   "cell_type": "code",
   "execution_count": 14,
   "metadata": {},
   "outputs": [
    {
     "data": {
      "text/plain": [
       "12"
      ]
     },
     "execution_count": 14,
     "metadata": {},
     "output_type": "execute_result"
    }
   ],
   "source": [
    "len(city_data)"
   ]
  },
  {
   "cell_type": "markdown",
   "metadata": {},
   "source": [
    "## 6.2.7 Create DataFrame from Weather Data"
   ]
  },
  {
   "cell_type": "code",
   "execution_count": 15,
   "metadata": {},
   "outputs": [
    {
     "data": {
      "text/html": [
       "<div>\n",
       "<style scoped>\n",
       "    .dataframe tbody tr th:only-of-type {\n",
       "        vertical-align: middle;\n",
       "    }\n",
       "\n",
       "    .dataframe tbody tr th {\n",
       "        vertical-align: top;\n",
       "    }\n",
       "\n",
       "    .dataframe thead th {\n",
       "        text-align: right;\n",
       "    }\n",
       "</style>\n",
       "<table border=\"1\" class=\"dataframe\">\n",
       "  <thead>\n",
       "    <tr style=\"text-align: right;\">\n",
       "      <th></th>\n",
       "      <th>City</th>\n",
       "      <th>Lat</th>\n",
       "      <th>Lng</th>\n",
       "      <th>Max Temp</th>\n",
       "      <th>Humidity</th>\n",
       "      <th>Cloudiness</th>\n",
       "      <th>Wind Speed</th>\n",
       "      <th>Country</th>\n",
       "      <th>Date</th>\n",
       "    </tr>\n",
       "  </thead>\n",
       "  <tbody>\n",
       "    <tr>\n",
       "      <th>0</th>\n",
       "      <td>Hanalei</td>\n",
       "      <td>22.20</td>\n",
       "      <td>-159.50</td>\n",
       "      <td>78.8</td>\n",
       "      <td>65</td>\n",
       "      <td>75</td>\n",
       "      <td>19.46</td>\n",
       "      <td>US</td>\n",
       "      <td>2020-02-18 20:46:00</td>\n",
       "    </tr>\n",
       "    <tr>\n",
       "      <th>1</th>\n",
       "      <td>Hilo</td>\n",
       "      <td>19.73</td>\n",
       "      <td>-155.09</td>\n",
       "      <td>77.0</td>\n",
       "      <td>61</td>\n",
       "      <td>90</td>\n",
       "      <td>6.93</td>\n",
       "      <td>US</td>\n",
       "      <td>2020-02-18 20:43:26</td>\n",
       "    </tr>\n",
       "  </tbody>\n",
       "</table>\n",
       "</div>"
      ],
      "text/plain": [
       "      City    Lat     Lng  Max Temp  Humidity  Cloudiness  Wind Speed Country  \\\n",
       "0  Hanalei  22.20 -159.50      78.8        65          75       19.46      US   \n",
       "1     Hilo  19.73 -155.09      77.0        61          90        6.93      US   \n",
       "\n",
       "                  Date  \n",
       "0  2020-02-18 20:46:00  \n",
       "1  2020-02-18 20:43:26  "
      ]
     },
     "execution_count": 15,
     "metadata": {},
     "output_type": "execute_result"
    }
   ],
   "source": [
    "import pandas as pd\n",
    "\n",
    "# Convert the array of dictionaries to a Pandas DataFrame.\n",
    "city_data_df = pd.DataFrame(city_data)\n",
    "city_data_df.head(2)"
   ]
  },
  {
   "cell_type": "code",
   "execution_count": 16,
   "metadata": {},
   "outputs": [
    {
     "data": {
      "text/html": [
       "<div>\n",
       "<style scoped>\n",
       "    .dataframe tbody tr th:only-of-type {\n",
       "        vertical-align: middle;\n",
       "    }\n",
       "\n",
       "    .dataframe tbody tr th {\n",
       "        vertical-align: top;\n",
       "    }\n",
       "\n",
       "    .dataframe thead th {\n",
       "        text-align: right;\n",
       "    }\n",
       "</style>\n",
       "<table border=\"1\" class=\"dataframe\">\n",
       "  <thead>\n",
       "    <tr style=\"text-align: right;\">\n",
       "      <th></th>\n",
       "      <th>City</th>\n",
       "      <th>Country</th>\n",
       "      <th>Date</th>\n",
       "      <th>Lat</th>\n",
       "      <th>Lng</th>\n",
       "      <th>Max Temp</th>\n",
       "      <th>Humidity</th>\n",
       "      <th>Cloudiness</th>\n",
       "      <th>Wind Speed</th>\n",
       "    </tr>\n",
       "  </thead>\n",
       "  <tbody>\n",
       "    <tr>\n",
       "      <th>0</th>\n",
       "      <td>Hanalei</td>\n",
       "      <td>US</td>\n",
       "      <td>2020-02-18 20:46:00</td>\n",
       "      <td>22.20</td>\n",
       "      <td>-159.50</td>\n",
       "      <td>78.8</td>\n",
       "      <td>65</td>\n",
       "      <td>75</td>\n",
       "      <td>19.46</td>\n",
       "    </tr>\n",
       "    <tr>\n",
       "      <th>1</th>\n",
       "      <td>Hilo</td>\n",
       "      <td>US</td>\n",
       "      <td>2020-02-18 20:43:26</td>\n",
       "      <td>19.73</td>\n",
       "      <td>-155.09</td>\n",
       "      <td>77.0</td>\n",
       "      <td>61</td>\n",
       "      <td>90</td>\n",
       "      <td>6.93</td>\n",
       "    </tr>\n",
       "  </tbody>\n",
       "</table>\n",
       "</div>"
      ],
      "text/plain": [
       "      City Country                 Date    Lat     Lng  Max Temp  Humidity  \\\n",
       "0  Hanalei      US  2020-02-18 20:46:00  22.20 -159.50      78.8        65   \n",
       "1     Hilo      US  2020-02-18 20:43:26  19.73 -155.09      77.0        61   \n",
       "\n",
       "   Cloudiness  Wind Speed  \n",
       "0          75       19.46  \n",
       "1          90        6.93  "
      ]
     },
     "execution_count": 16,
     "metadata": {},
     "output_type": "execute_result"
    }
   ],
   "source": [
    "# change the order of columns\n",
    "new_column_order = [\"City\", \"Country\", \"Date\", \"Lat\", \"Lng\", \"Max Temp\", \"Humidity\", \"Cloudiness\", \"Wind Speed\"]\n",
    "city_data_df = city_data_df[new_column_order]\n",
    "city_data_df.head(2)"
   ]
  },
  {
   "cell_type": "code",
   "execution_count": 19,
   "metadata": {},
   "outputs": [
    {
     "name": "stdout",
     "output_type": "stream",
     "text": [
      " Volume in drive C is OS\n",
      " Volume Serial Number is 4ABC-47BB\n",
      "\n",
      " Directory of C:\\Users\\Daddy\\Documents\\DACamp\\mod_6\\World_Weather_Analysis\n",
      "\n",
      "02/18/2020  12:48 PM    <DIR>          .\n",
      "02/18/2020  12:48 PM    <DIR>          ..\n",
      "02/17/2020  08:45 PM             1,928 .gitignore\n",
      "02/18/2020  12:45 PM    <DIR>          .ipynb_checkpoints\n",
      "02/18/2020  12:43 PM    <DIR>          __pycache__\n",
      "02/17/2020  10:41 PM                51 config.py\n",
      "02/17/2020  08:45 PM                24 README.md\n",
      "02/18/2020  12:42 PM    <DIR>          weather_data\n",
      "02/18/2020  12:48 PM            28,435 WeatherPy.ipynb\n",
      "               4 File(s)         30,438 bytes\n",
      "               5 Dir(s)  347,712,614,400 bytes free\n"
     ]
    }
   ],
   "source": [
    "ls"
   ]
  },
  {
   "cell_type": "markdown",
   "metadata": {},
   "source": [
    "# weather_data/cities.csv must exist first !! ??"
   ]
  },
  {
   "cell_type": "code",
   "execution_count": 22,
   "metadata": {},
   "outputs": [],
   "source": [
    "# Create the output file (CSV).\n",
    "output_data_file = \"weather_data/cities.csv\"\n",
    "# Export the City_Data into a CSV.\n",
    "city_data_df.to_csv(output_data_file, index_label=\"City_ID\")"
   ]
  },
  {
   "cell_type": "code",
   "execution_count": null,
   "metadata": {},
   "outputs": [],
   "source": []
  }
 ],
 "metadata": {
  "kernelspec": {
   "display_name": "PythonData",
   "language": "python",
   "name": "pythondata"
  },
  "language_info": {
   "codemirror_mode": {
    "name": "ipython",
    "version": 3
   },
   "file_extension": ".py",
   "mimetype": "text/x-python",
   "name": "python",
   "nbconvert_exporter": "python",
   "pygments_lexer": "ipython3",
   "version": "3.7.4"
  }
 },
 "nbformat": 4,
 "nbformat_minor": 4
}
