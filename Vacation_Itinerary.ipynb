{
 "cells": [
  {
   "cell_type": "markdown",
   "metadata": {},
   "source": [
    "# Chanllenge Part 3, Travel Itinerary"
   ]
  },
  {
   "cell_type": "markdown",
   "metadata": {},
   "source": [
    "### Retrieve Vacation Cities set"
   ]
  },
  {
   "cell_type": "code",
   "execution_count": 1,
   "metadata": {},
   "outputs": [],
   "source": [
    "# Import the dependencies.\n",
    "import pandas as pd\n",
    "import numpy as np"
   ]
  },
  {
   "cell_type": "code",
   "execution_count": 2,
   "metadata": {},
   "outputs": [
    {
     "data": {
      "text/html": [
       "<div>\n",
       "<style scoped>\n",
       "    .dataframe tbody tr th:only-of-type {\n",
       "        vertical-align: middle;\n",
       "    }\n",
       "\n",
       "    .dataframe tbody tr th {\n",
       "        vertical-align: top;\n",
       "    }\n",
       "\n",
       "    .dataframe thead th {\n",
       "        text-align: right;\n",
       "    }\n",
       "</style>\n",
       "<table border=\"1\" class=\"dataframe\">\n",
       "  <thead>\n",
       "    <tr style=\"text-align: right;\">\n",
       "      <th></th>\n",
       "      <th>City_ID</th>\n",
       "      <th>City</th>\n",
       "      <th>Country</th>\n",
       "      <th>Max Temp</th>\n",
       "      <th>Current Description</th>\n",
       "      <th>Lat</th>\n",
       "      <th>Lng</th>\n",
       "      <th>Hotel Name</th>\n",
       "    </tr>\n",
       "  </thead>\n",
       "  <tbody>\n",
       "    <tr>\n",
       "      <th>0</th>\n",
       "      <td>4</td>\n",
       "      <td>Ushuaia</td>\n",
       "      <td>AR</td>\n",
       "      <td>55.40</td>\n",
       "      <td>scattered clouds</td>\n",
       "      <td>-54.80</td>\n",
       "      <td>-68.30</td>\n",
       "      <td>Albatros Hotel</td>\n",
       "    </tr>\n",
       "    <tr>\n",
       "      <th>1</th>\n",
       "      <td>7</td>\n",
       "      <td>Kaitangata</td>\n",
       "      <td>NZ</td>\n",
       "      <td>55.99</td>\n",
       "      <td>few clouds</td>\n",
       "      <td>-46.28</td>\n",
       "      <td>169.85</td>\n",
       "      <td>Kaitangata Motor Camp</td>\n",
       "    </tr>\n",
       "  </tbody>\n",
       "</table>\n",
       "</div>"
      ],
      "text/plain": [
       "   City_ID        City Country  Max Temp Current Description    Lat     Lng  \\\n",
       "0        4     Ushuaia      AR     55.40    scattered clouds -54.80  -68.30   \n",
       "1        7  Kaitangata      NZ     55.99          few clouds -46.28  169.85   \n",
       "\n",
       "              Hotel Name  \n",
       "0         Albatros Hotel  \n",
       "1  Kaitangata Motor Camp  "
      ]
     },
     "execution_count": 2,
     "metadata": {},
     "output_type": "execute_result"
    }
   ],
   "source": [
    "# read back prepared city list\n",
    "hotel_df = pd.read_csv(\"weather_data\\WeatherPy_vacation.csv\")\n",
    "hotel_df.head(2)"
   ]
  },
  {
   "cell_type": "code",
   "execution_count": 3,
   "metadata": {},
   "outputs": [],
   "source": [
    "import gmaps\n",
    "import gmaps.datasets\n",
    "# Import the API key.\n",
    "from config import g_key\n",
    "\n",
    "# Configure gmaps to use your Google API key.\n",
    "gmaps.configure(api_key=g_key)"
   ]
  },
  {
   "cell_type": "code",
   "execution_count": 4,
   "metadata": {},
   "outputs": [
    {
     "data": {
      "application/vnd.jupyter.widget-view+json": {
       "model_id": "623cf1e33f68427c95d73b18f5ec9a7a",
       "version_major": 2,
       "version_minor": 0
      },
      "text/plain": [
       "Figure(layout=FigureLayout(height='420px'))"
      ]
     },
     "metadata": {},
     "output_type": "display_data"
    }
   ],
   "source": [
    "info_box_template = \"\"\"\n",
    "<dl>\n",
    "<dt>Hotel Name</dt><dd>{Hotel Name}</dd>\n",
    "<dt>City</dt><dd>{City}</dd>\n",
    "<dt>Country</dt><dd>{Country}</dd>\n",
    "<dt>Current Weather</dt><dd>{Current Description} and {Max Temp}°F</dd>\n",
    "</dl>\n",
    "\"\"\"\n",
    "\n",
    "# Store the DataFrame Row.\n",
    "hotel_info = [info_box_template.format(**row) for index, row in hotel_df.iterrows()]\n",
    "\n",
    "# gmaps with a marker layer for each city.\n",
    "locations = hotel_df[[\"Lat\", \"Lng\"]]\n",
    "max_temp = hotel_df[\"Max Temp\"]\n",
    "fig = gmaps.figure(center=(30.0, 31.0), zoom_level=1.5)\n",
    "marker_layer = gmaps.marker_layer(locations, info_box_content=hotel_info)\n",
    "fig.add_layer(marker_layer)\n",
    "fig"
   ]
  },
  {
   "cell_type": "markdown",
   "metadata": {},
   "source": [
    "### choose visiting cities."
   ]
  },
  {
   "cell_type": "code",
   "execution_count": 5,
   "metadata": {},
   "outputs": [
    {
     "data": {
      "text/plain": [
       "['Lompoc', 'Chino Valley', 'Safford', 'Del Rio']"
      ]
     },
     "execution_count": 5,
     "metadata": {},
     "output_type": "execute_result"
    }
   ],
   "source": [
    "# these are the visiting cities\n",
    "visiting_cities = [\"Lompoc\", \"Chino Valley\", \"Safford\", \"Del Rio\"]\n",
    "visiting_cities"
   ]
  },
  {
   "cell_type": "markdown",
   "metadata": {},
   "source": [
    "### Create visiting cities DataFrame"
   ]
  },
  {
   "cell_type": "code",
   "execution_count": 6,
   "metadata": {},
   "outputs": [
    {
     "data": {
      "text/html": [
       "<div>\n",
       "<style scoped>\n",
       "    .dataframe tbody tr th:only-of-type {\n",
       "        vertical-align: middle;\n",
       "    }\n",
       "\n",
       "    .dataframe tbody tr th {\n",
       "        vertical-align: top;\n",
       "    }\n",
       "\n",
       "    .dataframe thead th {\n",
       "        text-align: right;\n",
       "    }\n",
       "</style>\n",
       "<table border=\"1\" class=\"dataframe\">\n",
       "  <thead>\n",
       "    <tr style=\"text-align: right;\">\n",
       "      <th></th>\n",
       "      <th>City_ID</th>\n",
       "      <th>City</th>\n",
       "      <th>Country</th>\n",
       "      <th>Max Temp</th>\n",
       "      <th>Current Description</th>\n",
       "      <th>Lat</th>\n",
       "      <th>Lng</th>\n",
       "      <th>Hotel Name</th>\n",
       "    </tr>\n",
       "  </thead>\n",
       "  <tbody>\n",
       "    <tr>\n",
       "      <th>31</th>\n",
       "      <td>336</td>\n",
       "      <td>Lompoc</td>\n",
       "      <td>US</td>\n",
       "      <td>57.99</td>\n",
       "      <td>overcast clouds</td>\n",
       "      <td>34.64</td>\n",
       "      <td>-120.46</td>\n",
       "      <td>Holiday Inn Express Lompoc</td>\n",
       "    </tr>\n",
       "    <tr>\n",
       "      <th>41</th>\n",
       "      <td>397</td>\n",
       "      <td>Chino Valley</td>\n",
       "      <td>US</td>\n",
       "      <td>55.00</td>\n",
       "      <td>clear sky</td>\n",
       "      <td>34.76</td>\n",
       "      <td>-112.45</td>\n",
       "      <td>Primrose Inn &amp; Suites</td>\n",
       "    </tr>\n",
       "    <tr>\n",
       "      <th>21</th>\n",
       "      <td>195</td>\n",
       "      <td>Safford</td>\n",
       "      <td>US</td>\n",
       "      <td>53.60</td>\n",
       "      <td>clear sky</td>\n",
       "      <td>32.83</td>\n",
       "      <td>-109.71</td>\n",
       "      <td>SpringHill Suites by Marriott Thatcher</td>\n",
       "    </tr>\n",
       "    <tr>\n",
       "      <th>10</th>\n",
       "      <td>69</td>\n",
       "      <td>Del Rio</td>\n",
       "      <td>US</td>\n",
       "      <td>50.00</td>\n",
       "      <td>clear sky</td>\n",
       "      <td>29.36</td>\n",
       "      <td>-100.90</td>\n",
       "      <td>Holiday Inn Express &amp; Suites del Rio</td>\n",
       "    </tr>\n",
       "  </tbody>\n",
       "</table>\n",
       "</div>"
      ],
      "text/plain": [
       "    City_ID          City Country  Max Temp Current Description    Lat  \\\n",
       "31      336        Lompoc      US     57.99     overcast clouds  34.64   \n",
       "41      397  Chino Valley      US     55.00           clear sky  34.76   \n",
       "21      195       Safford      US     53.60           clear sky  32.83   \n",
       "10       69       Del Rio      US     50.00           clear sky  29.36   \n",
       "\n",
       "       Lng                              Hotel Name  \n",
       "31 -120.46              Holiday Inn Express Lompoc  \n",
       "41 -112.45                   Primrose Inn & Suites  \n",
       "21 -109.71  SpringHill Suites by Marriott Thatcher  \n",
       "10 -100.90    Holiday Inn Express & Suites del Rio  "
      ]
     },
     "execution_count": 6,
     "metadata": {},
     "output_type": "execute_result"
    }
   ],
   "source": [
    "visiting_cities_df = hotel_df.loc[hotel_df[\"City\"] == visiting_cities[0]]\n",
    "visiting_cities_df = visiting_cities_df.append(hotel_df.loc[hotel_df[\"City\"] == visiting_cities[1]])\n",
    "visiting_cities_df = visiting_cities_df.append(hotel_df.loc[hotel_df[\"City\"] == visiting_cities[2]])\n",
    "visiting_cities_df = visiting_cities_df.append(hotel_df.loc[hotel_df[\"City\"] == visiting_cities[3]])\n",
    "visiting_cities_df"
   ]
  },
  {
   "cell_type": "code",
   "execution_count": 7,
   "metadata": {},
   "outputs": [
    {
     "data": {
      "text/html": [
       "<div>\n",
       "<style scoped>\n",
       "    .dataframe tbody tr th:only-of-type {\n",
       "        vertical-align: middle;\n",
       "    }\n",
       "\n",
       "    .dataframe tbody tr th {\n",
       "        vertical-align: top;\n",
       "    }\n",
       "\n",
       "    .dataframe thead th {\n",
       "        text-align: right;\n",
       "    }\n",
       "</style>\n",
       "<table border=\"1\" class=\"dataframe\">\n",
       "  <thead>\n",
       "    <tr style=\"text-align: right;\">\n",
       "      <th></th>\n",
       "      <th>City_ID</th>\n",
       "      <th>City</th>\n",
       "      <th>Country</th>\n",
       "      <th>Max Temp</th>\n",
       "      <th>Current Description</th>\n",
       "      <th>Lat</th>\n",
       "      <th>Lng</th>\n",
       "      <th>Hotel Name</th>\n",
       "    </tr>\n",
       "  </thead>\n",
       "  <tbody>\n",
       "    <tr>\n",
       "      <th>0</th>\n",
       "      <td>336</td>\n",
       "      <td>Lompoc</td>\n",
       "      <td>US</td>\n",
       "      <td>57.99</td>\n",
       "      <td>overcast clouds</td>\n",
       "      <td>34.64</td>\n",
       "      <td>-120.46</td>\n",
       "      <td>Holiday Inn Express Lompoc</td>\n",
       "    </tr>\n",
       "    <tr>\n",
       "      <th>1</th>\n",
       "      <td>397</td>\n",
       "      <td>Chino Valley</td>\n",
       "      <td>US</td>\n",
       "      <td>55.00</td>\n",
       "      <td>clear sky</td>\n",
       "      <td>34.76</td>\n",
       "      <td>-112.45</td>\n",
       "      <td>Primrose Inn &amp; Suites</td>\n",
       "    </tr>\n",
       "    <tr>\n",
       "      <th>2</th>\n",
       "      <td>195</td>\n",
       "      <td>Safford</td>\n",
       "      <td>US</td>\n",
       "      <td>53.60</td>\n",
       "      <td>clear sky</td>\n",
       "      <td>32.83</td>\n",
       "      <td>-109.71</td>\n",
       "      <td>SpringHill Suites by Marriott Thatcher</td>\n",
       "    </tr>\n",
       "    <tr>\n",
       "      <th>3</th>\n",
       "      <td>69</td>\n",
       "      <td>Del Rio</td>\n",
       "      <td>US</td>\n",
       "      <td>50.00</td>\n",
       "      <td>clear sky</td>\n",
       "      <td>29.36</td>\n",
       "      <td>-100.90</td>\n",
       "      <td>Holiday Inn Express &amp; Suites del Rio</td>\n",
       "    </tr>\n",
       "  </tbody>\n",
       "</table>\n",
       "</div>"
      ],
      "text/plain": [
       "   City_ID          City Country  Max Temp Current Description    Lat     Lng  \\\n",
       "0      336        Lompoc      US     57.99     overcast clouds  34.64 -120.46   \n",
       "1      397  Chino Valley      US     55.00           clear sky  34.76 -112.45   \n",
       "2      195       Safford      US     53.60           clear sky  32.83 -109.71   \n",
       "3       69       Del Rio      US     50.00           clear sky  29.36 -100.90   \n",
       "\n",
       "                               Hotel Name  \n",
       "0              Holiday Inn Express Lompoc  \n",
       "1                   Primrose Inn & Suites  \n",
       "2  SpringHill Suites by Marriott Thatcher  \n",
       "3    Holiday Inn Express & Suites del Rio  "
      ]
     },
     "execution_count": 7,
     "metadata": {},
     "output_type": "execute_result"
    }
   ],
   "source": [
    "visiting_cities_df.reset_index(inplace=True, drop=True)\n",
    "visiting_cities_df"
   ]
  },
  {
   "cell_type": "markdown",
   "metadata": {},
   "source": [
    "## Vacation Travel Directional Map"
   ]
  },
  {
   "cell_type": "code",
   "execution_count": 8,
   "metadata": {},
   "outputs": [
    {
     "name": "stdout",
     "output_type": "stream",
     "text": [
      "start: (34.64, -120.46)\n",
      "waypoints: [(34.76, -112.45), (32.83, -109.71)]\n",
      "end: (29.36, -100.9)\n"
     ]
    }
   ],
   "source": [
    "def get_visiting_city_coord(idx):\n",
    "    return (visiting_cities_df.at[idx, \"Lat\"], visiting_cities_df.at[idx, \"Lng\"])\n",
    "\n",
    "start = get_visiting_city_coord(0)\n",
    "waypoints = [get_visiting_city_coord(1), get_visiting_city_coord(2)]\n",
    "end = get_visiting_city_coord(3)\n",
    "print(f\"start: {start}\")\n",
    "print(f\"waypoints: {waypoints}\")\n",
    "print(f\"end: {end}\")"
   ]
  },
  {
   "cell_type": "code",
   "execution_count": 9,
   "metadata": {},
   "outputs": [
    {
     "data": {
      "application/vnd.jupyter.widget-view+json": {
       "model_id": "7794a3eb6c134e6ba64c911e3d7d11ef",
       "version_major": 2,
       "version_minor": 0
      },
      "text/plain": [
       "Figure(layout=FigureLayout(height='420px'))"
      ]
     },
     "metadata": {},
     "output_type": "display_data"
    }
   ],
   "source": [
    "fig = gmaps.figure()\n",
    "       \n",
    "travel = gmaps.directions_layer(start, end, waypoints=waypoints, travel_mode=\"DRIVING\")\n",
    "fig.add_layer(travel)\n",
    "\n",
    "fig"
   ]
  },
  {
   "cell_type": "markdown",
   "metadata": {},
   "source": [
    "## Vacation Itinerary Map with Pop-up Marker"
   ]
  },
  {
   "cell_type": "code",
   "execution_count": 10,
   "metadata": {},
   "outputs": [
    {
     "data": {
      "application/vnd.jupyter.widget-view+json": {
       "model_id": "b87aae81b35d489babad785fcb269be0",
       "version_major": 2,
       "version_minor": 0
      },
      "text/plain": [
       "Figure(layout=FigureLayout(height='420px'))"
      ]
     },
     "metadata": {},
     "output_type": "display_data"
    }
   ],
   "source": [
    "info_box_template = \"\"\"\n",
    "<dl>\n",
    "<dt>Hotel Name</dt><dd>{Hotel Name}</dd>\n",
    "<dt>City</dt><dd>{City}</dd>\n",
    "<dt>Country</dt><dd>{Country}</dd>\n",
    "<dt>Current Weather</dt><dd>{Current Description} and {Max Temp}°F</dd>\n",
    "</dl>\n",
    "\"\"\"\n",
    "\n",
    "# Store the DataFrame Row.\n",
    "hotel_info = [info_box_template.format(**row) for index, row in visiting_cities_df.iterrows()]\n",
    "\n",
    "# gmaps with a marker layer for each city.\n",
    "locations = visiting_cities_df[[\"Lat\", \"Lng\"]]\n",
    "max_temp = visiting_cities_df[\"Max Temp\"]\n",
    "fig = gmaps.figure(center=(30.0, 31.0), zoom_level=1.5)\n",
    "marker_layer = gmaps.marker_layer(locations, info_box_content=hotel_info)\n",
    "fig.add_layer(marker_layer)\n",
    "fig"
   ]
  },
  {
   "cell_type": "code",
   "execution_count": null,
   "metadata": {},
   "outputs": [],
   "source": []
  }
 ],
 "metadata": {
  "kernelspec": {
   "display_name": "PythonData",
   "language": "python",
   "name": "pythondata"
  },
  "language_info": {
   "codemirror_mode": {
    "name": "ipython",
    "version": 3
   },
   "file_extension": ".py",
   "mimetype": "text/x-python",
   "name": "python",
   "nbconvert_exporter": "python",
   "pygments_lexer": "ipython3",
   "version": "3.7.4"
  }
 },
 "nbformat": 4,
 "nbformat_minor": 4
}
